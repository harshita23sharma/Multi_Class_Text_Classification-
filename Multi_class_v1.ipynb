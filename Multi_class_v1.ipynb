{
  "nbformat": 4,
  "nbformat_minor": 0,
  "metadata": {
    "colab": {
      "name": "Multi_class_v1.ipynb",
      "provenance": [],
      "collapsed_sections": [],
      "include_colab_link": true
    },
    "kernelspec": {
      "name": "python3",
      "display_name": "Python 3"
    }
  },
  "cells": [
    {
      "cell_type": "markdown",
      "metadata": {
        "id": "view-in-github",
        "colab_type": "text"
      },
      "source": [
        "<a href=\"https://colab.research.google.com/github/harshita23sharma/Multi_Class_Text_Classification-/blob/master/Multi_class_v1.ipynb\" target=\"_parent\"><img src=\"https://colab.research.google.com/assets/colab-badge.svg\" alt=\"Open In Colab\"/></a>"
      ]
    },
    {
      "cell_type": "code",
      "metadata": {
        "id": "PtCPTBaiqClZ",
        "colab_type": "code",
        "colab": {}
      },
      "source": [
        "# Mounting google drive for train images and groundtruth\n",
        "from google.colab import drive\n",
        "drive.mount('/content/drive')"
      ],
      "execution_count": 0,
      "outputs": []
    },
    {
      "cell_type": "code",
      "metadata": {
        "id": "DIG-hXi5qEfV",
        "colab_type": "code",
        "colab": {}
      },
      "source": [
        "from sklearn.feature_extraction.text import CountVectorizer, TfidfVectorizer\n",
        "%matplotlib inline\n",
        "import pandas as pd\n",
        "import numpy as np\n",
        "import nltk\n",
        "from nltk.corpus import stopwords\n",
        "import gensim\n",
        "from gensim.models import LdaModel\n",
        "from gensim import models, corpora, similarities\n",
        "import re\n",
        "from nltk.stem.porter import PorterStemmer\n",
        "import time\n",
        "from nltk import FreqDist\n",
        "from scipy.stats import entropy\n",
        "import matplotlib.pyplot as plt\n",
        "import seaborn as sns\n",
        "sns.set_style(\"darkgrid\")"
      ],
      "execution_count": 0,
      "outputs": []
    },
    {
      "cell_type": "code",
      "metadata": {
        "id": "nhf7bzH4qGsM",
        "colab_type": "code",
        "colab": {}
      },
      "source": [
        "import pandas as pd\n",
        "train = pd.read_csv(\"/content/drive/My Drive/zs/data/train.csv\") \n",
        "test = pd.read_csv(\"/content/drive/My Drive/zs/data/test.csv\")"
      ],
      "execution_count": 0,
      "outputs": []
    },
    {
      "cell_type": "code",
      "metadata": {
        "id": "vhKokUNmszdd",
        "colab_type": "code",
        "colab": {}
      },
      "source": [
        "import nltk\n",
        "nltk.download(\"popular\")"
      ],
      "execution_count": 0,
      "outputs": []
    },
    {
      "cell_type": "code",
      "metadata": {
        "id": "8bn94NoOR_Zc",
        "colab_type": "code",
        "colab": {}
      },
      "source": [
        "def initial_clean(text):\n",
        "    \"\"\"\n",
        "    Function to clean text of websites, email addresess and any punctuation\n",
        "    We also lower case the text\n",
        "    \"\"\"\n",
        "    text = re.sub(\"((\\S+)?(http(s)?)(\\S+))|((\\S+)?(www)(\\S+))|((\\S+)?(\\@)(\\S+)?)\", \" \", text)\n",
        "    text = re.sub(\"[^a-zA-Z ]\", \"\", text)\n",
        "    text = text.lower() # lower case the text\n",
        "    text = nltk.word_tokenize(text)\n",
        "    return text\n",
        "\n",
        "stop_words = stopwords.words('english')\n",
        "def remove_stop_words(text):\n",
        "    \"\"\"\n",
        "    Function that removes all stopwords from text\n",
        "    \"\"\"\n",
        "    return [word for word in text if word not in stop_words]\n",
        "\n",
        "stemmer = PorterStemmer()\n",
        "def stem_words(text):\n",
        "    \"\"\"\n",
        "    Function to stem words, so plural and singular are treated the same\n",
        "    \"\"\"\n",
        "    try:\n",
        "        text = [stemmer.stem(word) for word in text]\n",
        "        text = [word for word in text if len(word) > 1] # make sure we have no 1 letter words\n",
        "    except IndexError: # the word \"oed\" broke this, so needed try except\n",
        "        pass\n",
        "    return text\n",
        "\n",
        "def apply_all(text):\n",
        "    \"\"\"\n",
        "    This function applies all the functions above into one\n",
        "    \"\"\"\n",
        "    return stem_words(remove_stop_words(initial_clean(text))) "
      ],
      "execution_count": 0,
      "outputs": []
    },
    {
      "cell_type": "code",
      "metadata": {
        "id": "ef8_x0NeSA_Z",
        "colab_type": "code",
        "colab": {}
      },
      "source": [
        "def standardize_text(df, text_field):\n",
        "    df[text_field] = df[text_field].str.replace(r\"http\\S+\", \"\")\n",
        "    df[text_field] = df[text_field].str.replace(r\"http\", \"\")\n",
        "    df[text_field] = df[text_field].str.replace(r\"@\\S+\", \"\")\n",
        "    df[text_field] = df[text_field].str.replace(r\"[^A-Za-z0-9(),!?@\\'\\`\\\"\\_\\n]\", \" \")\n",
        "    df[text_field] = df[text_field].str.replace(r\"@\", \"at\")\n",
        "    df[text_field] = df[text_field].str.lower()\n",
        "    return df"
      ],
      "execution_count": 0,
      "outputs": []
    },
    {
      "cell_type": "code",
      "metadata": {
        "id": "1pPd6fn3SMpR",
        "colab_type": "code",
        "colab": {}
      },
      "source": [
        "train[\"clean_text\"]=train.job_description\n",
        "train = standardize_text(train, \"clean_text\")"
      ],
      "execution_count": 0,
      "outputs": []
    },
    {
      "cell_type": "code",
      "metadata": {
        "id": "aj6mF4BFMzwM",
        "colab_type": "code",
        "colab": {}
      },
      "source": [
        "X = train[['job_no','job_description','clean_text']]\n",
        "y = train['category']\n"
      ],
      "execution_count": 0,
      "outputs": []
    },
    {
      "cell_type": "code",
      "metadata": {
        "id": "YeNd6cRoSgUs",
        "colab_type": "code",
        "colab": {
          "base_uri": "https://localhost:8080/",
          "height": 204
        },
        "outputId": "8c4d1d17-73ce-411d-fdf4-d3379b59ca45"
      },
      "source": [
        "X.head()"
      ],
      "execution_count": 12,
      "outputs": [
        {
          "output_type": "execute_result",
          "data": {
            "text/html": [
              "<div>\n",
              "<style scoped>\n",
              "    .dataframe tbody tr th:only-of-type {\n",
              "        vertical-align: middle;\n",
              "    }\n",
              "\n",
              "    .dataframe tbody tr th {\n",
              "        vertical-align: top;\n",
              "    }\n",
              "\n",
              "    .dataframe thead th {\n",
              "        text-align: right;\n",
              "    }\n",
              "</style>\n",
              "<table border=\"1\" class=\"dataframe\">\n",
              "  <thead>\n",
              "    <tr style=\"text-align: right;\">\n",
              "      <th></th>\n",
              "      <th>job_no</th>\n",
              "      <th>job_description</th>\n",
              "      <th>clean_text</th>\n",
              "    </tr>\n",
              "  </thead>\n",
              "  <tbody>\n",
              "    <tr>\n",
              "      <th>0</th>\n",
              "      <td>Id-12765</td>\n",
              "      <td>Zest Scientific is searching for an accomplis...</td>\n",
              "      <td>zest scientific is searching for an accomplis...</td>\n",
              "    </tr>\n",
              "    <tr>\n",
              "      <th>1</th>\n",
              "      <td>Id-22925</td>\n",
              "      <td>En el mundo de los CRO's típicos, esta compañí...</td>\n",
              "      <td>en el mundo de los cro's t picos, esta compa  ...</td>\n",
              "    </tr>\n",
              "    <tr>\n",
              "      <th>2</th>\n",
              "      <td>Id-1321</td>\n",
              "      <td>Asha Mistry of Umbilical Life is recruiting an...</td>\n",
              "      <td>asha mistry of umbilical life is recruiting an...</td>\n",
              "    </tr>\n",
              "    <tr>\n",
              "      <th>3</th>\n",
              "      <td>Id-9473</td>\n",
              "      <td>Sales Representative - Laser in der Medizinte...</td>\n",
              "      <td>sales representative   laser in der medizinte...</td>\n",
              "    </tr>\n",
              "    <tr>\n",
              "      <th>4</th>\n",
              "      <td>Id-14952</td>\n",
              "      <td>Field Service Engineer - Life Science\\r\\r\\r\\nC...</td>\n",
              "      <td>field service engineer   life science   \\ncamb...</td>\n",
              "    </tr>\n",
              "  </tbody>\n",
              "</table>\n",
              "</div>"
            ],
            "text/plain": [
              "     job_no  ...                                         clean_text\n",
              "0  Id-12765  ...   zest scientific is searching for an accomplis...\n",
              "1  Id-22925  ...  en el mundo de los cro's t picos, esta compa  ...\n",
              "2   Id-1321  ...  asha mistry of umbilical life is recruiting an...\n",
              "3   Id-9473  ...   sales representative   laser in der medizinte...\n",
              "4  Id-14952  ...  field service engineer   life science   \\ncamb...\n",
              "\n",
              "[5 rows x 3 columns]"
            ]
          },
          "metadata": {
            "tags": []
          },
          "execution_count": 12
        }
      ]
    },
    {
      "cell_type": "code",
      "metadata": {
        "id": "oClcfX0kMcxj",
        "colab_type": "code",
        "colab": {}
      },
      "source": [
        "from sklearn.model_selection import train_test_split\n",
        "X_train,X_test,y_train,y_test = train_test_split(train.clean_text, y, test_size=0.3, random_state=42)"
      ],
      "execution_count": 0,
      "outputs": []
    },
    {
      "cell_type": "code",
      "metadata": {
        "id": "CQYRdXu4JOrv",
        "colab_type": "code",
        "colab": {}
      },
      "source": [
        "from sklearn.pipeline import Pipeline\n",
        "from sklearn.svm import LinearSVC"
      ],
      "execution_count": 0,
      "outputs": []
    },
    {
      "cell_type": "code",
      "metadata": {
        "id": "rK_fVnz6uiHh",
        "colab_type": "code",
        "colab": {}
      },
      "source": [
        "# Initialize the TFIDF vectorizer, that uses bigrams (2,2).\n",
        "vectorizer = TfidfVectorizer(ngram_range=(2, 2), min_df=4, use_idf=True, smooth_idf=True)\n",
        "\n"
      ],
      "execution_count": 0,
      "outputs": []
    },
    {
      "cell_type": "code",
      "metadata": {
        "id": "-FakktplL6wl",
        "colab_type": "code",
        "colab": {}
      },
      "source": [
        "text_clf = Pipeline([('tfidf',vectorizer),('clf',LinearSVC())])"
      ],
      "execution_count": 0,
      "outputs": []
    },
    {
      "cell_type": "code",
      "metadata": {
        "id": "CwOsi9k0Ngn-",
        "colab_type": "code",
        "colab": {
          "base_uri": "https://localhost:8080/",
          "height": 374
        },
        "outputId": "25f552c6-5a04-4c0d-816b-f96259f5c626"
      },
      "source": [
        "text_clf.fit(X_train,y_train)"
      ],
      "execution_count": 17,
      "outputs": [
        {
          "output_type": "execute_result",
          "data": {
            "text/plain": [
              "Pipeline(memory=None,\n",
              "         steps=[('tfidf',\n",
              "                 TfidfVectorizer(analyzer='word', binary=False,\n",
              "                                 decode_error='strict',\n",
              "                                 dtype=<class 'numpy.float64'>,\n",
              "                                 encoding='utf-8', input='content',\n",
              "                                 lowercase=True, max_df=1.0, max_features=None,\n",
              "                                 min_df=4, ngram_range=(2, 2), norm='l2',\n",
              "                                 preprocessor=None, smooth_idf=True,\n",
              "                                 stop_words=None, strip_accents=None,\n",
              "                                 sublinear_tf=False,\n",
              "                                 token_pattern='(?u)\\\\b\\\\w\\\\w+\\\\b',\n",
              "                                 tokenizer=None, use_idf=True,\n",
              "                                 vocabulary=None)),\n",
              "                ('clf',\n",
              "                 LinearSVC(C=1.0, class_weight=None, dual=True,\n",
              "                           fit_intercept=True, intercept_scaling=1,\n",
              "                           loss='squared_hinge', max_iter=1000,\n",
              "                           multi_class='ovr', penalty='l2', random_state=None,\n",
              "                           tol=0.0001, verbose=0))],\n",
              "         verbose=False)"
            ]
          },
          "metadata": {
            "tags": []
          },
          "execution_count": 17
        }
      ]
    },
    {
      "cell_type": "code",
      "metadata": {
        "id": "BLLeOg3KXEWU",
        "colab_type": "code",
        "colab": {}
      },
      "source": [
        "predictions = text_clf.predict(X_test)"
      ],
      "execution_count": 0,
      "outputs": []
    },
    {
      "cell_type": "code",
      "metadata": {
        "id": "UR5V_CcvXmpy",
        "colab_type": "code",
        "colab": {}
      },
      "source": [
        "from sklearn.metrics import confusion_matrix,classification_report,accuracy_score\n"
      ],
      "execution_count": 0,
      "outputs": []
    },
    {
      "cell_type": "code",
      "metadata": {
        "id": "-ChJS4HyX16j",
        "colab_type": "code",
        "colab": {
          "base_uri": "https://localhost:8080/",
          "height": 204
        },
        "outputId": "23203d7f-29e5-451e-c5ca-7f1f8e83776c"
      },
      "source": [
        "print(confusion_matrix(y_test,predictions))"
      ],
      "execution_count": 20,
      "outputs": [
        {
          "output_type": "stream",
          "text": [
            "[[ 426   60   88   23   19   33   38    0   26   69  188]\n",
            " [  45  139   21    0    0    0    2    0    1    1   29]\n",
            " [  78   24  243    3    4   10   96    1   61   19  120]\n",
            " [   9    0    0  112    0    0    0    0    0   10   14]\n",
            " [   7    2    5    0  103    0   14    0    1    5   23]\n",
            " [  36    0   14    0    2  200   44    0    0   22   14]\n",
            " [  15    2   47    1    8   35 1227    1    0    2   27]\n",
            " [   0    0    3    0    0    0    0    2    0    0    0]\n",
            " [  17    3   51    0    0    0    1    0  115    3   15]\n",
            " [  67    2   45    9    1   15    4    0   11  132   59]\n",
            " [ 231   20  139   11   16   19   76    0   25   48  289]]\n"
          ],
          "name": "stdout"
        }
      ]
    },
    {
      "cell_type": "code",
      "metadata": {
        "id": "RJgshejuX9ci",
        "colab_type": "code",
        "colab": {
          "base_uri": "https://localhost:8080/",
          "height": 323
        },
        "outputId": "9f4d53bb-85cf-4da2-e639-5a7b13b2ce97"
      },
      "source": [
        "print(classification_report(y_test,predictions))"
      ],
      "execution_count": 21,
      "outputs": [
        {
          "output_type": "stream",
          "text": [
            "                                              precision    recall  f1-score   support\n",
            "\n",
            "                           Clinical Research       0.46      0.44      0.45       970\n",
            "              Data Management and Statistics       0.55      0.58      0.57       238\n",
            "                  Manufacturing & Operations       0.37      0.37      0.37       659\n",
            "  Medical Affairs / Pharmaceutical Physician       0.70      0.77      0.74       145\n",
            "   Medical Information and Pharmacovigilance       0.67      0.64      0.66       160\n",
            "                    Pharmaceutical Marketing       0.64      0.60      0.62       332\n",
            "Pharmaceutical, Healthcare and Medical Sales       0.82      0.90      0.86      1365\n",
            "                                    Pharmacy       0.50      0.40      0.44         5\n",
            "                           Quality-assurance       0.48      0.56      0.52       205\n",
            "                          Regulatory Affairs       0.42      0.38      0.40       345\n",
            "                                     Science       0.37      0.33      0.35       874\n",
            "\n",
            "                                    accuracy                           0.56      5298\n",
            "                                   macro avg       0.54      0.54      0.54      5298\n",
            "                                weighted avg       0.55      0.56      0.56      5298\n",
            "\n"
          ],
          "name": "stdout"
        }
      ]
    }
  ]
}