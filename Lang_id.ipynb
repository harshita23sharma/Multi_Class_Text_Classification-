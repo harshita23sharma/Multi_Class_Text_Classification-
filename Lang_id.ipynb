{
  "nbformat": 4,
  "nbformat_minor": 0,
  "metadata": {
    "colab": {
      "name": "Lang_id.ipynb",
      "provenance": []
    },
    "kernelspec": {
      "name": "python3",
      "display_name": "Python 3"
    }
  },
  "cells": [
    {
      "cell_type": "code",
      "metadata": {
        "id": "-CPghmjrf1MM",
        "colab_type": "code",
        "colab": {
          "base_uri": "https://localhost:8080/",
          "height": 122
        },
        "outputId": "149a29b2-401e-4e8d-bd9c-6cb6caf187bd"
      },
      "source": [
        "# Mounting google drive for train images and groundtruth\n",
        "from google.colab import drive\n",
        "drive.mount('/content/drive')"
      ],
      "execution_count": 1,
      "outputs": [
        {
          "output_type": "stream",
          "text": [
            "Go to this URL in a browser: https://accounts.google.com/o/oauth2/auth?client_id=947318989803-6bn6qk8qdgf4n4g3pfee6491hc0brc4i.apps.googleusercontent.com&redirect_uri=urn%3aietf%3awg%3aoauth%3a2.0%3aoob&response_type=code&scope=email%20https%3a%2f%2fwww.googleapis.com%2fauth%2fdocs.test%20https%3a%2f%2fwww.googleapis.com%2fauth%2fdrive%20https%3a%2f%2fwww.googleapis.com%2fauth%2fdrive.photos.readonly%20https%3a%2f%2fwww.googleapis.com%2fauth%2fpeopleapi.readonly\n",
            "\n",
            "Enter your authorization code:\n",
            "··········\n",
            "Mounted at /content/drive\n"
          ],
          "name": "stdout"
        }
      ]
    },
    {
      "cell_type": "code",
      "metadata": {
        "id": "NNhtU1DggoLq",
        "colab_type": "code",
        "colab": {
          "base_uri": "https://localhost:8080/",
          "height": 224
        },
        "outputId": "6b0166e2-e85a-4bde-b207-3a6b23d2e452"
      },
      "source": [
        "!pip install langid"
      ],
      "execution_count": 3,
      "outputs": [
        {
          "output_type": "stream",
          "text": [
            "Collecting langid\n",
            "\u001b[?25l  Downloading https://files.pythonhosted.org/packages/ea/4c/0fb7d900d3b0b9c8703be316fbddffecdab23c64e1b46c7a83561d78bd43/langid-1.1.6.tar.gz (1.9MB)\n",
            "\u001b[K     |████████████████████████████████| 1.9MB 4.9MB/s \n",
            "\u001b[?25hRequirement already satisfied: numpy in /usr/local/lib/python3.6/dist-packages (from langid) (1.17.4)\n",
            "Building wheels for collected packages: langid\n",
            "  Building wheel for langid (setup.py) ... \u001b[?25l\u001b[?25hdone\n",
            "  Created wheel for langid: filename=langid-1.1.6-cp36-none-any.whl size=1941190 sha256=c89981f3382a4d2f648800cdd3741b6a8352d6d927292dfa0b161202ca034fcc\n",
            "  Stored in directory: /root/.cache/pip/wheels/29/bc/61/50a93be85d1afe9436c3dc61f38da8ad7b637a38af4824e86e\n",
            "Successfully built langid\n",
            "Installing collected packages: langid\n",
            "Successfully installed langid-1.1.6\n"
          ],
          "name": "stdout"
        }
      ]
    },
    {
      "cell_type": "code",
      "metadata": {
        "id": "qk15nl63gujf",
        "colab_type": "code",
        "colab": {}
      },
      "source": [
        ""
      ],
      "execution_count": 0,
      "outputs": []
    },
    {
      "cell_type": "code",
      "metadata": {
        "id": "gsnLMDeaf5lM",
        "colab_type": "code",
        "colab": {}
      },
      "source": [
        "# import libraries we'll use\n",
        "import spacy # fast NLP\n",
        "import pandas as pd # dataframes\n",
        "import langid # language identification (i.e. what language is this?)\n",
        "from nltk.classify.textcat import TextCat # language identification from NLTK\n",
        "from matplotlib.pyplot import plot # not as good as ggplot in R :p"
      ],
      "execution_count": 0,
      "outputs": []
    },
    {
      "cell_type": "code",
      "metadata": {
        "id": "fdQ5wsyOgxTV",
        "colab_type": "code",
        "colab": {}
      },
      "source": [
        "train = pd.read_csv(\"/content/drive/My Drive/zs/data/train.csv\") \n",
        "test = pd.read_csv(\"/content/drive/My Drive/zs/data/test.csv\")"
      ],
      "execution_count": 0,
      "outputs": []
    },
    {
      "cell_type": "code",
      "metadata": {
        "id": "gXQlp1U8gFA4",
        "colab_type": "code",
        "colab": {}
      },
      "source": [
        "def get_lang_tags(df):\n",
        "  # get the language id for each text\n",
        "  ids_langid = df['job_description'].apply(langid.classify)\n",
        "\n",
        "  # get just the language label\n",
        "  langs = ids_langid.apply(lambda tuple: tuple[0])\n",
        "  # how many unique language labels were applied?\n",
        "  print(\"Number of tagged languages (estimated):\")\n",
        "  print(len(langs.unique()))\n",
        "\n",
        "  # percent of the total dataset in English\n",
        "  print(\"Percent of data in English (estimated):\")\n",
        "  print((sum(langs==\"en\")/len(langs))*100)\n",
        "  return langs\n"
      ],
      "execution_count": 0,
      "outputs": []
    },
    {
      "cell_type": "code",
      "metadata": {
        "id": "x5-UnYjEg3zb",
        "colab_type": "code",
        "colab": {
          "base_uri": "https://localhost:8080/",
          "height": 85
        },
        "outputId": "2776c012-617c-430c-a625-a70bd6cc050d"
      },
      "source": [
        "langs = get_lang_tags(train)"
      ],
      "execution_count": 13,
      "outputs": [
        {
          "output_type": "stream",
          "text": [
            "Number of tagged languages (estimated):\n",
            "6\n",
            "Percent of data in English (estimated):\n",
            "69.97224896641558\n"
          ],
          "name": "stdout"
        }
      ]
    },
    {
      "cell_type": "code",
      "metadata": {
        "id": "fD38g5UDipvK",
        "colab_type": "code",
        "colab": {}
      },
      "source": [
        "langs"
      ],
      "execution_count": 0,
      "outputs": []
    },
    {
      "cell_type": "code",
      "metadata": {
        "id": "tEGhakSgiNZ9",
        "colab_type": "code",
        "colab": {
          "base_uri": "https://localhost:8080/",
          "height": 85
        },
        "outputId": "ccf8c490-2eb4-4bf2-ee59-3487df3d8311"
      },
      "source": [
        "test_langs = get_lang_tags(test)"
      ],
      "execution_count": 14,
      "outputs": [
        {
          "output_type": "stream",
          "text": [
            "Number of tagged languages (estimated):\n",
            "7\n",
            "Percent of data in English (estimated):\n",
            "69.69671225894146\n"
          ],
          "name": "stdout"
        }
      ]
    },
    {
      "cell_type": "code",
      "metadata": {
        "id": "aPaxRosojjcO",
        "colab_type": "code",
        "colab": {
          "base_uri": "https://localhost:8080/",
          "height": 34
        },
        "outputId": "a551334d-7a96-469c-8db1-f0ca303cf844"
      },
      "source": [
        "langs.unique()\n",
        "#array(['en', 'es', 'de', 'fr', 'it', 'sv'], dtype=object)"
      ],
      "execution_count": 17,
      "outputs": [
        {
          "output_type": "execute_result",
          "data": {
            "text/plain": [
              "array(['en', 'es', 'de', 'fr', 'it', 'sv'], dtype=object)"
            ]
          },
          "metadata": {
            "tags": []
          },
          "execution_count": 17
        }
      ]
    },
    {
      "cell_type": "code",
      "metadata": {
        "id": "FyR80Uc8ixJi",
        "colab_type": "code",
        "colab": {
          "base_uri": "https://localhost:8080/",
          "height": 34
        },
        "outputId": "f7b06808-a5e4-4164-cf44-cc8d6cbda6bf"
      },
      "source": [
        "test_langs.unique()\n",
        "# array(['en', 'fr', 'it', 'de', 'sv', 'da', 'es'], dtype=object)"
      ],
      "execution_count": 16,
      "outputs": [
        {
          "output_type": "execute_result",
          "data": {
            "text/plain": [
              "array(['en', 'fr', 'it', 'de', 'sv', 'da', 'es'], dtype=object)"
            ]
          },
          "metadata": {
            "tags": []
          },
          "execution_count": 16
        }
      ]
    },
    {
      "cell_type": "code",
      "metadata": {
        "id": "fGCG8puXhceW",
        "colab_type": "code",
        "colab": {
          "base_uri": "https://localhost:8080/",
          "height": 34
        },
        "outputId": "eb146cd1-6150-4547-bd78-a0612e0ca1c8"
      },
      "source": [
        "langs.unique()"
      ],
      "execution_count": 10,
      "outputs": [
        {
          "output_type": "execute_result",
          "data": {
            "text/plain": [
              "array(['en', 'es', 'de', 'fr', 'it', 'sv'], dtype=object)"
            ]
          },
          "metadata": {
            "tags": []
          },
          "execution_count": 10
        }
      ]
    },
    {
      "cell_type": "code",
      "metadata": {
        "id": "Y4YkXuMphenL",
        "colab_type": "code",
        "colab": {
          "base_uri": "https://localhost:8080/",
          "height": 34
        },
        "outputId": "2eb1324e-e105-40cc-d22f-af13001f9af9"
      },
      "source": [
        "# # get the language id for each text\n",
        "# ids_langid = train['job_description'].apply(langid.classify)\n",
        "\n",
        "# # get just the language label\n",
        "# langs = ids_langid.apply(lambda tuple: tuple[0])\n",
        "ids_langid.shape,langs.shape"
      ],
      "execution_count": 19,
      "outputs": [
        {
          "output_type": "execute_result",
          "data": {
            "text/plain": [
              "((17657,), (17657,))"
            ]
          },
          "metadata": {
            "tags": []
          },
          "execution_count": 19
        }
      ]
    },
    {
      "cell_type": "code",
      "metadata": {
        "id": "vjLNlCgzj23J",
        "colab_type": "code",
        "colab": {
          "base_uri": "https://localhost:8080/",
          "height": 102
        },
        "outputId": "a18f7774-6090-4f9f-d4b0-d02195c32d68"
      },
      "source": [
        "# get a list of tweets labelled \"es\" by langid\n",
        "spanish_rows = train['job_description'][langs == \"es\"]\n",
        "\n",
        "# load a Spanish-language Spacy model\n",
        "from spacy.lang.es import Spanish\n",
        "nlp_es = Spanish(path=None)\n",
        "nlp_es.max_length = 5500000\n",
        "# apply the Spanish language model to our daya\n",
        "doc_es = nlp_es(' '.join(spanish_rows))\n",
        "\n",
        "# print the longest tokens\n",
        "sorted(doc_es, key=len, reverse=True)[0:5]\n"
      ],
      "execution_count": 23,
      "outputs": [
        {
          "output_type": "execute_result",
          "data": {
            "text/plain": [
              "[ch.linkedin.com/in/regulatoryaffairsswitzerland,\n",
              " ch.linkedin.com/in/regulatoryaffairsswitzerland,\n",
              " ch.linkedin.com/in/regulatoryaffairsswitzerland,\n",
              " ch.linkedin.com/in/regulatoryaffairsswitzerland,\n",
              " ch.linkedin.com/in/regulatoryaffairsswitzerland]"
            ]
          },
          "metadata": {
            "tags": []
          },
          "execution_count": 23
        }
      ]
    },
    {
      "cell_type": "code",
      "metadata": {
        "id": "lOMoPQ78oFAZ",
        "colab_type": "code",
        "colab": {
          "base_uri": "https://localhost:8080/",
          "height": 204
        },
        "outputId": "bd554e02-df78-4714-ea53-3542c904af84"
      },
      "source": [
        "train.head()"
      ],
      "execution_count": 31,
      "outputs": [
        {
          "output_type": "execute_result",
          "data": {
            "text/html": [
              "<div>\n",
              "<style scoped>\n",
              "    .dataframe tbody tr th:only-of-type {\n",
              "        vertical-align: middle;\n",
              "    }\n",
              "\n",
              "    .dataframe tbody tr th {\n",
              "        vertical-align: top;\n",
              "    }\n",
              "\n",
              "    .dataframe thead th {\n",
              "        text-align: right;\n",
              "    }\n",
              "</style>\n",
              "<table border=\"1\" class=\"dataframe\">\n",
              "  <thead>\n",
              "    <tr style=\"text-align: right;\">\n",
              "      <th></th>\n",
              "      <th>job_no</th>\n",
              "      <th>job_description</th>\n",
              "      <th>job_type</th>\n",
              "      <th>category</th>\n",
              "      <th>lang_id</th>\n",
              "    </tr>\n",
              "  </thead>\n",
              "  <tbody>\n",
              "    <tr>\n",
              "      <th>0</th>\n",
              "      <td>Id-12765</td>\n",
              "      <td>Zest Scientific is searching for an accomplis...</td>\n",
              "      <td>Permanent</td>\n",
              "      <td>Pharmaceutical, Healthcare and Medical Sales</td>\n",
              "      <td>en</td>\n",
              "    </tr>\n",
              "    <tr>\n",
              "      <th>1</th>\n",
              "      <td>Id-22925</td>\n",
              "      <td>En el mundo de los CRO's típicos, esta compañí...</td>\n",
              "      <td>Permanent</td>\n",
              "      <td>Clinical Research</td>\n",
              "      <td>es</td>\n",
              "    </tr>\n",
              "    <tr>\n",
              "      <th>2</th>\n",
              "      <td>Id-1321</td>\n",
              "      <td>Asha Mistry of Umbilical Life is recruiting an...</td>\n",
              "      <td>Contract/Interim</td>\n",
              "      <td>Pharmaceutical Marketing</td>\n",
              "      <td>en</td>\n",
              "    </tr>\n",
              "    <tr>\n",
              "      <th>3</th>\n",
              "      <td>Id-9473</td>\n",
              "      <td>Sales Representative - Laser in der Medizinte...</td>\n",
              "      <td>Permanent</td>\n",
              "      <td>Pharmaceutical, Healthcare and Medical Sales</td>\n",
              "      <td>en</td>\n",
              "    </tr>\n",
              "    <tr>\n",
              "      <th>4</th>\n",
              "      <td>Id-14952</td>\n",
              "      <td>Field Service Engineer - Life Science\\r\\r\\r\\nC...</td>\n",
              "      <td>Permanent</td>\n",
              "      <td>Manufacturing &amp; Operations</td>\n",
              "      <td>en</td>\n",
              "    </tr>\n",
              "  </tbody>\n",
              "</table>\n",
              "</div>"
            ],
            "text/plain": [
              "     job_no  ... lang_id\n",
              "0  Id-12765  ...      en\n",
              "1  Id-22925  ...      es\n",
              "2   Id-1321  ...      en\n",
              "3   Id-9473  ...      en\n",
              "4  Id-14952  ...      en\n",
              "\n",
              "[5 rows x 5 columns]"
            ]
          },
          "metadata": {
            "tags": []
          },
          "execution_count": 31
        }
      ]
    },
    {
      "cell_type": "code",
      "metadata": {
        "id": "IJOvn9Vzn5a3",
        "colab_type": "code",
        "colab": {}
      },
      "source": [
        "train['lang_id'] = langs\n",
        "test['lang_id'] = test_langs"
      ],
      "execution_count": 0,
      "outputs": []
    },
    {
      "cell_type": "code",
      "metadata": {
        "id": "1xT-AiBem4Lz",
        "colab_type": "code",
        "colab": {
          "base_uri": "https://localhost:8080/",
          "height": 345
        },
        "outputId": "c0345e4d-5d78-4deb-ffc5-99089ac5e560"
      },
      "source": [
        "\n",
        "import matplotlib.pyplot as plt\n",
        "import seaborn as sns\n",
        "%matplotlib inline\n",
        "\n",
        "ax = sns.catplot(x='lang_id',kind='count',data=train,orient=\"h\")\n",
        "ax.fig.autofmt_xdate()\n",
        "\n",
        "# plt.rcParams.update({'figure.figsize':(7,5), 'figure.dpi':100})\n",
        "# fig, axes = plt.subplots(figsize=(7,5), dpi=100)\n",
        "# plt.bar(train.index, height=train.lang_id)\n",
        "# plt.title('Barplot of Languages');"
      ],
      "execution_count": 38,
      "outputs": [
        {
          "output_type": "display_data",
          "data": {
            "image/png": "[encoded data removed]",
            "text/plain": [
              "<Figure size 360x360 with 1 Axes>"
            ]
          },
          "metadata": {
            "tags": []
          }
        }
      ]
    },
    {
      "cell_type": "code",
      "metadata": {
        "id": "KKe--saHvBXk",
        "colab_type": "code",
        "colab": {
          "base_uri": "https://localhost:8080/",
          "height": 345
        },
        "outputId": "c2ad3e6d-0c8e-4603-a0c0-b8bd6f68ec66"
      },
      "source": [
        "\n",
        "\n",
        "ax = sns.catplot(x='lang_id',kind='count',data=test,orient=\"h\")\n",
        "ax.fig.autofmt_xdate()"
      ],
      "execution_count": 39,
      "outputs": [
        {
          "output_type": "display_data",
          "data": {
            "image/png": "[encoded data removed]",
            "text/plain": [
              "<Figure size 360x360 with 1 Axes>"
            ]
          },
          "metadata": {
            "tags": []
          }
        }
      ]
    },
    {
      "cell_type": "code",
      "metadata": {
        "id": "7u6cIP-ktMfj",
        "colab_type": "code",
        "colab": {}
      },
      "source": [
        "## Need to focus on es, de, fr and en\n",
        "#es = spanish\n",
        "#fr = French\n",
        "#en = English\n",
        "#de = German\n",
        "#it = Italian\n",
        "#sv = Swedish\n",
        "#da = DAnish\n",
        "# http://www.lingoes.net/en/translator/langcode.htm\n",
        "\n"
      ],
      "execution_count": 0,
      "outputs": []
    },
    {
      "cell_type": "code",
      "metadata": {
        "id": "37hsuYScv62M",
        "colab_type": "code",
        "colab": {}
      },
      "source": [
        ""
      ],
      "execution_count": 0,
      "outputs": []
    }
  ]
}