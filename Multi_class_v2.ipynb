{
  "nbformat": 4,
  "nbformat_minor": 0,
  "metadata": {
    "colab": {
      "name": "Multi_class_v2.ipynb",
      "provenance": [],
      "collapsed_sections": []
    },
    "kernelspec": {
      "name": "python3",
      "display_name": "Python 3"
    }
  },
  "cells": [
    {
      "cell_type": "code",
      "metadata": {
        "id": "PtCPTBaiqClZ",
        "colab_type": "code",
        "colab": {
          "base_uri": "https://localhost:8080/",
          "height": 122
        },
        "outputId": "bc109dd8-14b1-4731-a338-e6270969ce4a"
      },
      "source": [
        "# Mounting google drive for train images and groundtruth\n",
        "from google.colab import drive\n",
        "drive.mount('/content/drive')"
      ],
      "execution_count": 1,
      "outputs": [
        {
          "output_type": "stream",
          "text": [
            "Go to this URL in a browser: https://accounts.google.com/o/oauth2/auth?client_id=947318989803-6bn6qk8qdgf4n4g3pfee6491hc0brc4i.apps.googleusercontent.com&redirect_uri=urn%3aietf%3awg%3aoauth%3a2.0%3aoob&response_type=code&scope=email%20https%3a%2f%2fwww.googleapis.com%2fauth%2fdocs.test%20https%3a%2f%2fwww.googleapis.com%2fauth%2fdrive%20https%3a%2f%2fwww.googleapis.com%2fauth%2fdrive.photos.readonly%20https%3a%2f%2fwww.googleapis.com%2fauth%2fpeopleapi.readonly\n",
            "\n",
            "Enter your authorization code:\n",
            "··········\n",
            "Mounted at /content/drive\n"
          ],
          "name": "stdout"
        }
      ]
    },
    {
      "cell_type": "code",
      "metadata": {
        "id": "DIG-hXi5qEfV",
        "colab_type": "code",
        "colab": {}
      },
      "source": [
        "from sklearn.feature_extraction.text import CountVectorizer, TfidfVectorizer\n",
        "%matplotlib inline\n",
        "import pandas as pd\n",
        "import numpy as np\n",
        "import nltk\n",
        "from nltk.corpus import stopwords\n",
        "import gensim\n",
        "from gensim.models import LdaModel\n",
        "from gensim import models, corpora, similarities\n",
        "import re\n",
        "from nltk.stem.porter import PorterStemmer\n",
        "import time\n",
        "from nltk import FreqDist\n",
        "from scipy.stats import entropy\n",
        "import matplotlib.pyplot as plt\n",
        "import seaborn as sns\n",
        "sns.set_style(\"darkgrid\")"
      ],
      "execution_count": 0,
      "outputs": []
    },
    {
      "cell_type": "code",
      "metadata": {
        "id": "nhf7bzH4qGsM",
        "colab_type": "code",
        "colab": {}
      },
      "source": [
        "import pandas as pd\n",
        "train = pd.read_csv(\"/content/drive/My Drive/zs/data/train.csv\") \n",
        "test = pd.read_csv(\"/content/drive/My Drive/zs/data/test.csv\")"
      ],
      "execution_count": 0,
      "outputs": []
    },
    {
      "cell_type": "code",
      "metadata": {
        "id": "WffyOShNzZyI",
        "colab_type": "code",
        "colab": {
          "base_uri": "https://localhost:8080/",
          "height": 71
        },
        "outputId": "c99a258d-0729-4330-8ba8-ca4c81849da7"
      },
      "source": [
        "train.job_description[1:3].to_list() "
      ],
      "execution_count": 4,
      "outputs": [
        {
          "output_type": "execute_result",
          "data": {
            "text/plain": [
              "[\"En el mundo de los CRO's típicos, esta compañía está haciendo grandes olas para convertirse en una de las organizaciones clínicas más revolucionarias de terceros en el país. Son una empresa dinámica y de ritmo rápido que están creciendo en tamaño gradualmente a medida que amplían su trabajo.\\r\\r\\r\\nAhora están buscando un auditor principal para unirse a su equipo clínico calificado de GCP a tiempo completo ahora que el auditor anterior ha sido promovido internamente.\\r\\r\\r\\nLas principales responsabilidades de esta fantástica oportunidad son:\\r\\r\\r\\nPlanificar, conducir y supervisar auditorías de sistemas internos y proveedores\\r\\r\\r\\nAdministrar auditorías para clientes (auditorías previas al estudio y activas de estudio de las operaciones de la compañía)\\r\\r\\r\\nMantener la base de datos interna de QA\\r\\r\\r\\nAdministrar los procesos de mejora continua basados \\u200b\\u200ben observaciones de inspección de auditoría y CAPA de la compañía\\r\\r\\r\\nAlojar auditorías de acreditación ISO\\r\\r\\r\\nAsegúrese de que los miembros del equipo del proyecto estén actualizados sobre las pautas y procedimientos del registro.\\r\\r\\r\\nEl candidato perfecto para el puesto tendrá lo siguiente:\\r\\r\\r\\nExperiencia de auditoría de GCP (o experiencia general de GCP por lo menos)\\r\\r\\r\\nUn grado relevante o experiencia profesional equivalente\\r\\r\\r\\nBuenas habilidades de gestión del tiempo\\r\\r\\r\\nFlexible y capaz de trabajar bajo presión\\r\\r\\r\\nConfianza y buena capacidad para servir de enlace con los clientes en todos los niveles\\r\\r\\r\\nBuenas habilidades de negociación\\r\\r\\r\\nEsta es una posición extremadamente emocionante para un profesional de Quality Assurance para mejorar su experiencia de auditoría interna y externa, así como para que un auditor con experiencia en GCP pueda escalar la carrera dentro de una compañía fantástica que promueve la progresión y el desarrollo.\\r\\r\\r\\nEsta compañía ofrece 3 días desde su hogar y 2 días en su oficina en Hertfordshire como parte de un equipo clínico pequeño pero con mucha experiencia.\\r\\r\\r\\nSi está interesado en esta oportunidad, póngase en contacto, ya que está ganando gran interés en el mercado.\\r\\r\\r\\nAplica ya\\r\\r\\r\\nNúmero de referencia: 187623-LCB-GCPAUD-CRO-0001\",\n",
              " 'Asha Mistry of Umbilical Life is recruiting an \\r\\r\\r\\nexperienced Account Manager\\r\\r\\r\\n for a medical communications agency based in Cheshire on a \\r\\r\\r\\nfreelance 6 month contract\\r\\r\\r\\n.\\r\\r\\r\\nThis is a great opportunity to work with a medical communications agency that works with clients in the pharmaceutical sector.\\r\\r\\r\\nHave you got considerable experience managing and developing client accounts in the pharmaceutical or healthcare sector? The ideal candidate will have significant account management experience developed within a medical communications agency.\\r\\r\\r\\nExperience and qualifications:\\r\\r\\r\\nA life-sciences degree is preferred, but must be educated to degree level\\r\\r\\r\\nMust have experience within a medical communications agency or healthcare advertising agency\\r\\r\\r\\nAt least 2 years’ Account Management experience is required in medical communications\\r\\r\\r\\nAble to develop client relationships and work closely with clients on budgets and deadlines\\r\\r\\r\\nMust have strong attention to detail\\r\\r\\r\\nFamiliar with a variety of therapy areas\\r\\r\\r\\n*Please note, you must be eligible to work in the UK to apply for this role.\\r\\r\\r\\nTo find out more about the role, please contact \\r\\r\\r\\nAsha Mistry\\r\\r\\r\\n at \\r\\r\\r\\nUmbilical Life\\r\\r\\r\\n on ******************** or email ***********************\\r\\r\\r\\nApply Now\\r\\r\\r\\nRef no: 328772-MISTRY-AM-FC']"
            ]
          },
          "metadata": {
            "tags": []
          },
          "execution_count": 4
        }
      ]
    },
    {
      "cell_type": "code",
      "metadata": {
        "id": "Lls-KGGt1qVG",
        "colab_type": "code",
        "colab": {
          "base_uri": "https://localhost:8080/",
          "height": 145
        },
        "outputId": "315776c0-d2dd-47a9-f99f-7272350b834a"
      },
      "source": [
        "train[1:3]"
      ],
      "execution_count": 51,
      "outputs": [
        {
          "output_type": "execute_result",
          "data": {
            "text/html": [
              "<div>\n",
              "<style scoped>\n",
              "    .dataframe tbody tr th:only-of-type {\n",
              "        vertical-align: middle;\n",
              "    }\n",
              "\n",
              "    .dataframe tbody tr th {\n",
              "        vertical-align: top;\n",
              "    }\n",
              "\n",
              "    .dataframe thead th {\n",
              "        text-align: right;\n",
              "    }\n",
              "</style>\n",
              "<table border=\"1\" class=\"dataframe\">\n",
              "  <thead>\n",
              "    <tr style=\"text-align: right;\">\n",
              "      <th></th>\n",
              "      <th>job_no</th>\n",
              "      <th>job_description</th>\n",
              "      <th>job_type</th>\n",
              "      <th>category</th>\n",
              "      <th>clean_text</th>\n",
              "    </tr>\n",
              "  </thead>\n",
              "  <tbody>\n",
              "    <tr>\n",
              "      <th>1</th>\n",
              "      <td>Id-22925</td>\n",
              "      <td>En el mundo de los CRO's típicos, esta compañí...</td>\n",
              "      <td>Permanent</td>\n",
              "      <td>Clinical Research</td>\n",
              "      <td>en el mundo de los cro's t picos, esta compa  ...</td>\n",
              "    </tr>\n",
              "    <tr>\n",
              "      <th>2</th>\n",
              "      <td>Id-1321</td>\n",
              "      <td>Asha Mistry of Umbilical Life is recruiting an...</td>\n",
              "      <td>Contract/Interim</td>\n",
              "      <td>Pharmaceutical Marketing</td>\n",
              "      <td>asha mistry of umbilical life is recruiting an...</td>\n",
              "    </tr>\n",
              "  </tbody>\n",
              "</table>\n",
              "</div>"
            ],
            "text/plain": [
              "     job_no  ...                                         clean_text\n",
              "1  Id-22925  ...  en el mundo de los cro's t picos, esta compa  ...\n",
              "2   Id-1321  ...  asha mistry of umbilical life is recruiting an...\n",
              "\n",
              "[2 rows x 5 columns]"
            ]
          },
          "metadata": {
            "tags": []
          },
          "execution_count": 51
        }
      ]
    },
    {
      "cell_type": "code",
      "metadata": {
        "id": "OMAC3MaI2BQ0",
        "colab_type": "code",
        "colab": {
          "base_uri": "https://localhost:8080/",
          "height": 258
        },
        "outputId": "5772095a-1d9b-445c-94e5-25c6732a8fcf"
      },
      "source": [
        "train.clean_text[100:113].to_list() "
      ],
      "execution_count": 55,
      "outputs": [
        {
          "output_type": "execute_result",
          "data": {
            "text/plain": [
              "[\"role  cell therapy account manager   oncology   haematology   \\npackage  negotiable basic salary, car, pension scheme, private health, bonus    \\nlocation  midlands covering west midlands, east midlands, cambridgeshire   \\nexciting opportunity for a hospital specialist, key account specialist or medical science liaison with a proven track record of success to introduce innovative oncology therapies in the uk   \\nthe client is a biopharmaceutical company engaged in the development of innovative cancer immunotherapies with a goal of providing rapid, long term durable response and eliminating the burden of chronic care  the company is focused on chimeric antigen receptor (car) and t cell receptor (tcr) engineered cell therapies designed to empower the immune system's ability to recognise and kill tumours  with headquarters in stockley park, uk they currently adding additional talent as it focuses on developing the european region in support of providing maximum access to patients with unmet needs   \\nthe cellular therapy account managers will be field based in regions of the uk and will be responsible for building and developing professional relationships within targeted academic hospitals to ensure the successful introduction of car tcr engineered cell therapies  you will initially be reporting to the uk cell therapy business unit director who is based in our high holborn london offices    \\nkey responsibilities (include but are not limited to)    \\nresponsible for meeting with appropriate leaders across the academic hospital to educate and logistically support the use of product(s)   \\noperate in compliance with all laws, regulations and policies   \\nin collaboration with head office and medical teams ensures successful coordination of cell journey and patient access   \\ncollaborate and develop effective relationship with head office, medical teams, therapy area experts (taes) and key decision makers influencers   \\nattend and provide support at professional meetings, reporting on scientific sessions and facilitation   \\nability to navigate a complex account environment and understand the needs issues of various stakeholders at all levels within the account   \\ncollaborate and regularly communicate with colleagues in commercial, quality and medical affairs   \\nactively gains customer insights, providing timely follow up on commitments and requests   \\nprovide medical affairs and commercial colleagues with appropriate feedback and insights from interactions with healthcare professionals   \\nfacilitate and provide timely feedback to appropriate management regarding account business trends, changes in the therapeutic landscape, industry issues and business opportunities   \\nqualifications   \\nessential  ba or bsc degree or equivalent  abpi   \\nfull uk driving license    \\nperson experience required   \\nproven track record of high performance in either hospital specialist, key account specialist or medical science liaison type role   \\ndemonstrated initiative, willingness to do what it takes in support of the customer   \\npossesses a long term, strategic understanding of the oncology market, ideally in cell therapy   \\nability to integrate and lead cross functionally   \\nworking knowledge of regulatory and compliance framework   \\nstrong business acumen and ability to evaluate and apply data to inform decision making   \\nexperience with managing large accounts including strategic planning, problem solving and execution   \\nlaunch experience within academic hospitals preferred   \\nsignificant oncology heamatology experience   \\nexceptional organizational and time management skills   \\noutstanding written, verbal and presentation skills with internal and external stakeholders   \\ndemonstrate initiative and a willingness to work hands on and with a sense of urgency, in a fast paced, entrepreneurial environment   \\ngraduate level degree is preferred   \\nrequires some overnight travel   25    \\nto apply   \\n if you are suitable for this position please attach your cv  alternatively call the recruitment team at chemistree solutions ltd  chemistree is a pharmaceutical and healthcare recruitment specialist    \\napply now   \\nref no  138060 3787a1   \\nthis vacancy is being advertised by chemistree solutions limited  the services advertised by chemistree solutions limited are those of an employment agency \",\n",
              " \"r dacteur m dical avanc    bas  au royaume uni ou en allemagne   \\nc'est une opportunit  exclusive    \\nmon client recherche actuellement une personne exp riment e qui poss de la bonne exp rience pour rejoindre son  quipe de r daction m dicale au royaume uni ou en allemagne  dans les deux cas, mon client recherche une personne qui offre un  ventail de comp tences et d exp riences diff rentes qu il peut utiliser dans ce poste    \\nla soci t  en question est une soci t  de conseil hautement r put e, qui travaille actuellement en partenariat avec certaines des plus grandes soci t s pharmaceutiques du monde  ils ont une  quipe de r daction m dicale avanc e et recherchent donc une personne poss dant les m mes connaissances pour aider l'entreprise   se d velopper rapidement et efficacement    \\nmon client recherchera une personne ayant une quantit  d exp rience particuli re,   savoir    \\ndipl me   bachelor   master en science   pharmacie   \\nau moins trois ann es d'exp rience dans la production de documentations r glementaires   \\ntravaill  en tant qu auteur principal   brochures rse, csp et investigator   \\nexp rience dans le contact direct avec les clients ou les auteurs des documents et la coordination des cycles de r vision   \\ncomp tence dans l'utilisation des syst mes de gestion de documents et des outils associ s   \\nresponsabilit s    \\npr parer et compl ter une gamme de documents r glementaires en tant que r dacteur en chef   \\nassurez vous que les documentations sont compl t es dans les d lais impartis    \\nsurveiller et g rer les budgets   finances des projets   \\n tre responsable de donner des conseils de documentation aux clients   \\nrespecter toutes les sop pertinentes   \\navantages   \\ncontact avec de nombreux clients diff rents dans de nombreux domaines th rapeutiques   \\nrejoignez une  quipe unique et un environnement de travail, tout en travaillant   domicile   \\ncontact avec les entreprises les plus prestigieuses du monde   \\nrejoignez une organisation en croissance constante   l' chelle mondiale   \\nsalaire comp titif   \\nje souhaite avoir l'avis de toute personne exp riment e qui pense avoir ce qu'il faut pour utiliser son exp rience au sein d'une organisation hautement avanc e et r put e, comme mes clients  contactez moi aujourd'hui pour conna tre toutes les informations pertinentes sur un appel confidentiel ou directement sur mon email    \\n(                    \\n                                 \\nappliquer maintenant   \\nn   de r f   137664 bt8576\",\n",
              " 'clinical research associate  madrid   \\ndie marktf hrende cro sucht nach begeisterten und leidenschaftlichen cras, die ihrem internationalen team in madrid beitreten  wenn sie umfangreiche onkologische erfahrung haben und min  2 jahre praxis f r ein anderes cro oder pharmaunternehmen, die position kann f r sie interessant sein  hier k nnen sie sich intern entwickeln, eigenverantwortlich agieren und mit den wichtigsten marktsponsoren zusammenarbeiten    \\ndie rolle ist einem sponsor gewidmet    \\nberufsbezeichnung   \\ncra   klinische studien   cra ii   cra 2   clinical research associate   cra   site   \\nlage   \\nmadrid, spanien   \\nleistungen   \\nverhandelbares gehalt   vorteile   \\nreduzierte  berwachung   \\nwork life balance   \\nrollenbeschreibung   \\ninternational cro (marktf hrend) sucht nach einer enthusiastischen cra mit onkologischem hintergrund, um als cra f r reduzierte protokolle zu fungieren  als teil des teams der wichtigsten marktprofis nehmen sie an allen arten von besuchen in barcelona und seiner region teil  sie werden alle aspekte des study site monitoring gem   unserer sop, ich richtlinien und gcp f hren  die rolle hebt sich vom rest ab, da das unternehmen einer der besten cros ist, in denen die leute jahrelang bleiben    \\nanforderungen   \\nstandort  madrid   \\nsprachen  spanisch, englisch   \\nausbildung  ba oder h her in medizinisch   wissenschaftlichen bereichen   \\nmindest  2  2,5 jahre erfahrung im monitoring   \\n ber i pharm consulting   \\ni pharm consulting ist eine spezialisierte rekrutierungsfirma, die das pharmaunternehmen rund um den globus betreut  wir bieten sowohl festanstellung als auch vertragsbediensteten f r eine vielzahl von pharma , medizinprodukte , biotechnologie  und auftragsforschungsorganisationen (cros) an  i pharm verf gt  ber besondere expertise in den bereichen klinische forschung, medizinische angelegenheiten, regulatory affairs, pharmakovigilanz, qualit tssicherung und bioinformatik    \\nbewerben   \\nwenn sie diese stelle weiter besprechen m chten, wenden sie sich bitte an die beraterin, monika naturalna  wenn diese rolle nicht geeignet ist, steht monika auch zur verf gung, um andere m gliche positionen zu besprechen oder allgemeine fragen zu ihrer karriere und dem aktuellen markt zu beantworten    \\njetzt bewerben   \\nref nr    205276 1550942018',\n",
              " ' jocelyn at ck qls is currently recruiting for a trial data scientist to join a growing biotech company focusing on the discovery and development of innovative therapeutic medicines based just outside of basel, switzerland  this role is offered on a full time temporary basis for 12 months, with the possibility of extension    \\nyour main responsibilities in this role will be to     \\n  ensure that data management (biometry) activities (related to assigned study) adhere to company standards, and applicable regulations    \\n  ensure study timelines are met in terms of data management deliverables   \\n  ensure data handling consistency within allocated studies   \\n  lead data management activities for assigned study   \\n  provide data management input to the development of the study protocol    \\n  coordinates the development of the (e)crf in line with company standards    \\n  write all study data management documents covering specifications for external data transfer, data cleanings and review tools that will be further provided to data management programmers for development for the allocated studies    \\n  perform and or coordinates quality control (qc)  periodic operational checks to verify that clinical data are handled according to protocol, applicable quality system (qs) documents and gcp    \\n  acts as data manager for studies where no dm is assigned    \\nyou are required to have the following qualifications, skills and experience    \\n  recognized degree in life sciences, mathematics, statistics, informatics or related disciplines    \\n  previous experience in pharmaceutical or biotech industry within clinical research and   or clinical data management with good level of functional expertise in data management   \\n  good knowledge of international clinical research regulations and requirements e g , international conference on harmonization   good clinical practice (ich gcp)   \\n  experience in clinical trial databases and applications, clinical data flow, data review, and (e)case report form (crf) design   \\n  ability to lead and coordinate the activity of data scientists allocated to his her study    \\n  fluent in written and spoken english    \\nif you are employed by this client you will be joining a growing biotech company based just outside of basel, switzerland     \\nplease note that your cv should show exact dates of employment (month and year) and any gaps of a month or more should be explained    \\nck group is an equal opportunities employer and welcomes applications from all who meet our selection criteria    \\nif you do not hear back from us within 5 working days of your application for this role, it means that on this occasion you have not been shortlisted for the next stage of the recruitment campaign  entitlement to work in the eea is essential  please quote reference cl41667 in all correspondence     \\napply now   \\nref no  241191 cl41667',\n",
              " 'i am partnered with a fast growing global boutique market access consultancy, who specialise in developing market access and pricing strategy  their clients include top 20 pharma, biotech, med device and diagnostic companies  they offer home based and flexi hours     \\nif you have    \\n  8 years experience in market access writing (multiple therapy areas)   \\n  developed value messages, global value dossiers, value slide sets, briefing books and market access tool kits    \\n  experienced in bd and have a substantial client network     \\n  experience working home based work well at home     \\ni am keen to speak with you! you can reach me directly for a discreet and confidential discussion at                   or via email at                         \\napply now   \\nref no  267641 hm0910 ',\n",
              " 'jim gleeson rekrutiert f r einen quality assurance associate, um einem erfolgreichen, mittelgro en internationalen pharmaunternehmen mit einem guten portfolio von produkten auf dem markt und einer starken pipeline in der entwicklung beizutreten  dies wird eine vertragsrolle f r sechs bis neun monate sein    \\nverantwortlichkeiten   \\nals quality assurance associate unterst tzen sie den leiter der qualit tssicherung durch ein breites spektrum an operativen koordinierungs  und supportaktivit ten    \\nzu den wichtigsten aufgaben geh ren    \\n  wartung des qualit tsmanagementsystems, der datenbanken und der schulungsunterlagen   \\n  beitrag zur entwicklung und pflege von unternehmens sops   \\n  protokollf hrung bei qa gef hrten sitzungen   \\n  als eines der autorisierten mitarbeiter des unternehmens f r den dokumentenlagerraum fungieren   \\nqualifikationen   \\nals quality assurance associate ben tigen sie folgendes    \\n  ein relevanter wissenschafts  oder pflegestudium   \\n  qa administrationserfahrung in einem cro  oder pharmaunternehmenumfeld   \\n  ausgezeichnete kommunikations , organisations  und zeitmanagementf higkeiten   \\n  ein hohes ma  an it kompetenz   \\nantragstellung   \\nf r weitere informationen oder um sich f r diese position des quality assurance associates zu bewerben, kontaktieren sie bitte jim gleeson unter  telefonnummer entfernt  oder e mail  e mail adresse entfernt   alternativ klicken sie bitte auf den untenstehenden link, um sich jetzt online zu bewerben    \\ndie ck group ist ein arbeitgeber f r chancengleichheit und begr  t bewerbungen von allen, die unsere auswahlkriterien erf llen    \\nwenn sie innerhalb von 5 arbeitstagen nach ihrer bewerbung nicht von uns h ren, bedeutet dies, dass sie bei dieser gelegenheit nicht f r die n chste phase der rekrutierungskampagne nominiert wurden  der anspruch auf arbeit im ewr ist unerl sslich  bitte geben sie in allen korrespondenz den hinweis cl41770 an    \\njetzt bewerben   \\nref nr    241191 cl41770',\n",
              " 'job title  senior project manager   \\nlocation  homebased or maidenhead office, uk   \\ntype  full time or part time   \\ncros nt   \\nas a global cro, cros nt empowers clinical trial outcomes with data driven services and solutions  from feasibility to clinical study reporting, cros nt s services cover regulatory consultancy, biometrics and data science (data management, biostatistics programming  amp  analysis), pharmacovigilance and medical writing  our technology portfolio includes innovative clinical analytics solutions and data visualization tools, edc, ecoa and integrated platforms as well as data anonymization tools    \\nwe are currently looking for an experienced senior project manager to join our uk team, based either from home or from our maidenhead office    \\nposition description    \\nas a senior project manager, you will be given the autonomy to coordinate and lead biometrics and clinical projects ensuring they are delivered on time and within budget  you will create and maintain project plans that communicate tasks, milestone dates, status and resource allocation for global projects and will support the business development team in creating effective and timely budget proposals for biometrics and clinical studies    \\nprincipal responsibilities include    \\ndevelop project plans and direct and manage projects from beginning to end   \\neffectively communicate project expectations to team members and liaise with sponsor on an ongoing basis   \\nestimate and manage the resources and participants needed to achieve project goals   \\nidentify and resolve issues and conflicts within the project team   \\nidentify and manage project dependencies and critical path   \\nplan and schedule project timelines and milestones using appropriate tools   \\ndevelop and deliver progress reports, proposals, requirements documentation, and presentations   \\nproactively manage changes in project scope, identify potential crises, and devise contingency plans   \\ndefine project success criteria and disseminate them to involved parties throughout project life cycle    \\nskills and experience required   \\n    \\nexperience within a cro environment   \\nsubstantial experience managing multiple projects for different customers   \\nfull service project management experience preferred, or experience managing biometrics or clinical projects   \\nbachelor s degree in a scientific or related discipline   \\nproven project management, leadership, organisation and communication skills   \\ncros careers   \\npeople are at the heart of cros nt s philosophy, which is focused on providing a centre of excellence to its customers, and we believe in empowering our employees to think differently, work creatively and challenge the status quo  at cros nt, you really can make a difference    \\nwe are committed to providing the very best career development opportunities that encourage you to progress in the direction of your strengths and aspirations, so whether you re looking to develop your technical expertise, project leadership or line management skills, we work with you to help you achieve your goals    \\nwe also understand the importance of a healthy work life balance, so we are pleased to offer flexible working arrangements alongside a very competitive salary and benefits package    \\nto apply for the position, please click apply now to submit your application    \\napply now   \\nref no  342022 888226',\n",
              " \"quintiles and ims health have come together to become iqvia, the human data science company(tm)  inspired by the industry we help, iqvia commits to providing solutions that enable life sciences companies to innovate with confidence, maximize their opportunities and ultimately drive human health outcomes forward     \\no are you passionate about improving patient lives?    \\no are you motivated by exceeding personal and team targets?   \\no do you want to explore your chosen career path?   \\niqvia has an exciting opportunity for an experienced pharmaceutical sales representative, or commercially aware and graduate trainee sales representative with a strong commercial sales background and a desire to kick start a career in pharmaceutical sales     \\nyou will work in a strategic long term partnership to raise awareness of a respiratory product across sunderland and south tyneside  you will be liaising with a variety of customers' including gps, nurses and pharmacists to produce immediate sales impact whilst taking responsibility for building and maintaining strong relationships with influencers     \\nwe are seeking a passionate individual who has a real hunger to succeed with an aim to increase business and activity across the local healthcare economy  you will have first class professional sales skills, strong business insight with the understanding you are promoting company image and values as well as first class products     \\nwe want to enable you to develop your career in the direction you want it to take     \\no expand your therapeutic and clinical expertise   \\no work in partnership with global brand leaders   \\no challenge yourself and strive for excellence   \\nif you want to fulfil your potential and work as an integrated team member promoting exceptional products, apply today and use your specialist sales skills to deliver the right outcomes in the new nhs     \\nwe are committed to rewarding your contributions with a combination of competitive salaries, comprehensive benefits and an award winning culture  in return for your dedication, you will receive an excellent benefits package, long term career opportunities and continuous professional training and development with a global employer   putting people at the heart of its business    \\niqvia    \\no helped develop or commercialize 98 of the top 100 best selling products of 2015   \\no 50,000 employees conducting business in more than 100 countries   \\no a fortune 500 company   \\no named as a 2016 world's most ethical company  by the ethisphere institute   \\no gold standard investor's in people    \\nbenefits   \\no excellent salary, bonus   company car   \\no life assurance, pension   private health insurance   \\no additional voluntary benefits available including    \\no health insurance (dental, health screen and optical)   \\no health clubs and gym discounts   \\no childcare vouchers   \\no give as you earn   \\nwe welcome applications for alterative territories and roles e g  hospital representatives, market access specialists and msls at anytime     \\nwe are an equal opportunity employer and we value diversity at our company  we do not discriminate on the basis of race, religion, colour, national origin, gender, sexual orientation, age, marital status, veteran status, or disability status    \\no experienced medical sales representative or demonstrable sales success   \\no highly motivated, influential individual proven to achieve targets    \\no strong commercial acumen and business planning skills    \\no excellent interpersonal and presentation skills    \\no abpi qualified (preferred)   \\no proven leadership ability and customer focus   \\no educated to degree level or equivalent    \\no uk driving licence (no more than 6 points)    \\no eligible to work full time in the uk    \\napply now   \\nref no  159206 1805048\",\n",
              " \" after study start and hand over from the dsm tm, coordinates trial deliverables within dsm and all other relevant associated functions  ensures that a trial level project plan is developed together with all relevant roles and progress of deliverables adequately tracked  maintains proactive communication with internal customers such as supply chain manager, order manager, label manager or master data manager on trial changes and progress of deliverables    \\n2  after study start and hand over from the dsm tm, represents dsm as an active member of the ctt, ensuring clear communication and alignment between clinical needs and clinical supply planning    \\n3  prior to ris, identifies, assesses and communicates risks together with potential and appropriate mitigation strategies for irt set up and distribution of supplies to the dsm tm  post ris and after hand over from the dsm tm, identifies, assesses and communicates risks to all relevant stakeholders (e g  ctt, cdpm, order alignment meeting, etc) along with appropriate mitigation strategies to ensure supply continuity for all patients    \\nspecific clinical distribution management activities    \\n4  defines a study's irt user requirement specifications  reviews and updates irt supply parameters periodically over study lifetime to ensure availability of clinical supplies based on actual study conduct, optimize overage and distribution costs    \\n5  generates optimal distribution plans for investigational medicinal products considering aspects such as optimal lot size, costs and overages     \\napply now   \\nref no  170720 mc 22604\",\n",
              " \"as an integral part of everything we do, our employees make a difference in the lives of millions of people  and you will too    \\nif you want to start or develop your career in clinical trials and you are thinking about long term opportunities we are happy to invite you to apply to one of the biggest clinical research organizations around the world  we are a global leading cro and have helped the pharmaceutical industry develop more medicines worldwide than any other company, including the top 50 best selling drugs on the market    \\nexplore our clinical project administrator profile and apply now!   \\nwe have clinical project administrator job available to work directly with large pharmaceutical companies in cutting edge areas like oncology, cardiology or diabetes    \\nyou will provide support to cras and ctls with  essential document collection, site initiation visits, amendments    your trained eye will be vital to perform study documents qc review for archiving (paper and etmf)  you will set up and maintain investigator files, personalize contracts for sites  you will also be involved in payments and contracts    \\nwe are looking for professionals with strong interest in clinical trials  we do require ba degree but it does not need to be in life sciences  additional requirement is having good english language skills and having no problems with discussing complex matters with german speaking professionals    \\nwe offer    \\nwork environment where your job is appreciated   \\nfriendly colleagues ready to help you   \\nflexible working hours   \\na package of benefits   \\neducation qualifications    \\nuniversity degree   \\nwe expect from you    \\nprevious experience in the field (around one year)   \\ndegree educated   \\nfluency in german and english language    \\nunderstanding of the clinical trial process    \\ngood oral and written communication skills   \\nability to set priorities and handle multiple tasks simultaneously   \\nat covance, you will join like minded professionals who, together, build our reputation as one of the world's largest and most respected contract research organizations  in choosing covance, you will be part of a dedicated team that makes a difference in helping to deliver life saving and life enhancing medicines to people around the world  we have vocations in different areas of russia    \\nwe welcome your application and believe this decision may be the most rewarding career move you will ever make   \\nthere is no better time to join us!   \\nsounds interesting? feel free to apply directly via career portal or get in touch with our recruiter, krzysztof orzechowski available on linkedin or at                                     \\napply now   \\nref no  329568 17362\",\n",
              " \" senior java developer    \\n java engineer    \\n j2ee developer    \\nlocation  london   \\nsalary   55k    85k base per annum   work from home scheme   \\ni pharm consulting are excited to announce our partnership with a fast growing medtech start up based in london city  we are looking to speak with java developers who have a passion to work with a talented team of engineers in order to design and build the next generation of technology platforms!   \\nwithin this role, you'll have the opportunity to spearhead further tech development, with a large remit for creative new product development, whilst working in a cross functional environment where you'll be encouraged to go beyond the remit of your role to explore other talents!    \\nwhat you'll need to bring to the table    \\n4  years of software development experience within the jvm ecosystem    \\ngood understanding of data structure and algorithm    \\nsuperstar experience with junit and mockito    \\ngood understanding of spring core, spring boot    \\nproviding estimations for releases as part of sprint planning    \\nworking with agile   scrum methodology    \\nwhat we what you to be an enthusiast with    \\njava 8    \\njdbc and hibernate    \\ncontinuous integration tools such as jenkins    \\naws   \\ndocker technologies   \\neager to learn more? apply directly or contact  email address removed     \\napply now   \\nref no  205276 cmg6712\",\n",
              " ' my client is one of the uk largest contract research organisation based in london  working alongside industry leading experts you will be actively involved in all aspects of planning and conducting clinical trials, learning new skills and constantly improving your knowledge    \\nwe are currently looking for a gmc registered physician with at least 3 years of clinical research experience gained in the uk with a strong team spirit and good sense of humour!   \\nin return my client is offering a generous remuneration package and a big investment in your professional development     \\nto find out more information about this role please submit your cv in ms word format to  email address removed  or call me, dagmara, on  phone number removed     \\napply now   \\nref no  130798 dk183741 1   \\nnonstop recruitment ltd    \\n25 canada square    \\ncanary wharf    \\nlondon    \\ne14 5lq',\n",
              " 'human factors consultant long term project vaud, switzerland   \\na fast moving contract role within human factors and usability has just come in with a world leading medical device company based in the vaud region    \\ncontract length  6 months   1 year  with good chance of extension    \\nrate  dependant on experience   \\nthe responsibilities for this role will include but will not be limited to    \\n  you will be the integral writer of the requirements for the software developers for technologies within the business    \\n  the user experience will be at the forefront of your roles and tasks    \\n  work closely with the clinical teams to ensure the best user experience and interface between departments    \\nthe ideal candidate for this role will have    \\n  several years of experience within usability, specifically working with medical device products    \\n  good working knowledge of iec 62366 or iec60601 1 6    \\n  a bonus would be any experience within software design    \\n  fluency in english is required, a bonus would be fluency in german too    \\nensure you apply now to find out more about your next role within usability and human factors within a world leading medical device company    \\ncall me tamanna gandecha at nonstop recruitment now for a confidential conversation  please send your cv in word format or if this does not sound like the opportunity for you, but you are a regulatory affairs professional within the medical device industry, please feel free to get in touch, to see other opportunities we may have within this field    \\nnonstop is one of the largest and fastest growing specialised life sciences recruitment companies in europe  we are proud members of the apsco life sciences group who ensure we meet the highest quality standards within the recruitment industry  our offices are located in the uk, switzerland and the czech republic and we hold labour leasing licences across europe  please visit our website for a full list of the niche markets we cover    \\napply now   \\nref no  130798 tg 59634 1   \\nnonstop recruitment ltd    \\n25 canada square    \\ncanary wharf    \\nlondon    \\ne14 5lq']"
            ]
          },
          "metadata": {
            "tags": []
          },
          "execution_count": 55
        }
      ]
    },
    {
      "cell_type": "code",
      "metadata": {
        "id": "rd7FhmTO2Fzv",
        "colab_type": "code",
        "colab": {
          "base_uri": "https://localhost:8080/",
          "height": 673
        },
        "outputId": "b4bd574d-42ca-4eb3-93ff-dd9cb52791f1"
      },
      "source": [
        "train[100:113]"
      ],
      "execution_count": 54,
      "outputs": [
        {
          "output_type": "execute_result",
          "data": {
            "text/html": [
              "<div>\n",
              "<style scoped>\n",
              "    .dataframe tbody tr th:only-of-type {\n",
              "        vertical-align: middle;\n",
              "    }\n",
              "\n",
              "    .dataframe tbody tr th {\n",
              "        vertical-align: top;\n",
              "    }\n",
              "\n",
              "    .dataframe thead th {\n",
              "        text-align: right;\n",
              "    }\n",
              "</style>\n",
              "<table border=\"1\" class=\"dataframe\">\n",
              "  <thead>\n",
              "    <tr style=\"text-align: right;\">\n",
              "      <th></th>\n",
              "      <th>job_no</th>\n",
              "      <th>job_description</th>\n",
              "      <th>job_type</th>\n",
              "      <th>category</th>\n",
              "      <th>clean_text</th>\n",
              "    </tr>\n",
              "  </thead>\n",
              "  <tbody>\n",
              "    <tr>\n",
              "      <th>100</th>\n",
              "      <td>Id-9507</td>\n",
              "      <td>Role: Cell Therapy Account Manager - Oncology ...</td>\n",
              "      <td>Permanent</td>\n",
              "      <td>Manufacturing &amp; Operations</td>\n",
              "      <td>role  cell therapy account manager   oncology ...</td>\n",
              "    </tr>\n",
              "    <tr>\n",
              "      <th>101</th>\n",
              "      <td>Id-23851</td>\n",
              "      <td>Rédacteur médical avancé - basé au Royaume-Uni...</td>\n",
              "      <td>Permanent</td>\n",
              "      <td>Clinical Research</td>\n",
              "      <td>r dacteur m dical avanc    bas  au royaume uni...</td>\n",
              "    </tr>\n",
              "    <tr>\n",
              "      <th>102</th>\n",
              "      <td>Id-27123</td>\n",
              "      <td>Clinical Research Associate- Madrid\\r\\r\\r\\nDie...</td>\n",
              "      <td>Permanent</td>\n",
              "      <td>Science</td>\n",
              "      <td>clinical research associate  madrid   \\ndie ma...</td>\n",
              "    </tr>\n",
              "    <tr>\n",
              "      <th>103</th>\n",
              "      <td>Id-18850</td>\n",
              "      <td>Jocelyn at CK QLS is currently recruiting for...</td>\n",
              "      <td>Contract/Temp</td>\n",
              "      <td>Science</td>\n",
              "      <td>jocelyn at ck qls is currently recruiting for...</td>\n",
              "    </tr>\n",
              "    <tr>\n",
              "      <th>104</th>\n",
              "      <td>Id-2936</td>\n",
              "      <td>I am partnered with a fast-growing global bout...</td>\n",
              "      <td>Permanent</td>\n",
              "      <td>Science</td>\n",
              "      <td>i am partnered with a fast growing global bout...</td>\n",
              "    </tr>\n",
              "    <tr>\n",
              "      <th>105</th>\n",
              "      <td>Id-28322</td>\n",
              "      <td>Jim Gleeson rekrutiert für einen Quality Assur...</td>\n",
              "      <td>Contract/Temp</td>\n",
              "      <td>Quality-assurance</td>\n",
              "      <td>jim gleeson rekrutiert f r einen quality assur...</td>\n",
              "    </tr>\n",
              "    <tr>\n",
              "      <th>106</th>\n",
              "      <td>Id-8531</td>\n",
              "      <td>Job Title: Senior Project Manager\\r\\r\\r\\nLocat...</td>\n",
              "      <td>Permanent</td>\n",
              "      <td>Science</td>\n",
              "      <td>job title  senior project manager   \\nlocation...</td>\n",
              "    </tr>\n",
              "    <tr>\n",
              "      <th>107</th>\n",
              "      <td>Id-13601</td>\n",
              "      <td>Quintiles and IMS Health have come together to...</td>\n",
              "      <td>Permanent</td>\n",
              "      <td>Pharmaceutical, Healthcare and Medical Sales</td>\n",
              "      <td>quintiles and ims health have come together to...</td>\n",
              "    </tr>\n",
              "    <tr>\n",
              "      <th>108</th>\n",
              "      <td>Id-3059</td>\n",
              "      <td>After study start and hand-over from the DSM ...</td>\n",
              "      <td>Contract/Interim</td>\n",
              "      <td>Clinical Research</td>\n",
              "      <td>after study start and hand over from the dsm ...</td>\n",
              "    </tr>\n",
              "    <tr>\n",
              "      <th>109</th>\n",
              "      <td>Id-2674</td>\n",
              "      <td>As an integral part of everything we do, our e...</td>\n",
              "      <td>Permanent</td>\n",
              "      <td>Science</td>\n",
              "      <td>as an integral part of everything we do, our e...</td>\n",
              "    </tr>\n",
              "    <tr>\n",
              "      <th>110</th>\n",
              "      <td>Id-17765</td>\n",
              "      <td>Senior Java Developer \\r\\r\\r\\n Java Engineer ...</td>\n",
              "      <td>Permanent</td>\n",
              "      <td>Manufacturing &amp; Operations</td>\n",
              "      <td>senior java developer    \\n java engineer    ...</td>\n",
              "    </tr>\n",
              "    <tr>\n",
              "      <th>111</th>\n",
              "      <td>Id-1003</td>\n",
              "      <td>My client is one of the UK largest contract r...</td>\n",
              "      <td>Permanent</td>\n",
              "      <td>Medical Affairs / Pharmaceutical Physician</td>\n",
              "      <td>my client is one of the uk largest contract r...</td>\n",
              "    </tr>\n",
              "    <tr>\n",
              "      <th>112</th>\n",
              "      <td>Id-68</td>\n",
              "      <td>Human Factors Consultant-Long Term Project-Vau...</td>\n",
              "      <td>Contract/Interim</td>\n",
              "      <td>Manufacturing &amp; Operations</td>\n",
              "      <td>human factors consultant long term project vau...</td>\n",
              "    </tr>\n",
              "  </tbody>\n",
              "</table>\n",
              "</div>"
            ],
            "text/plain": [
              "       job_no  ...                                         clean_text\n",
              "100   Id-9507  ...  role  cell therapy account manager   oncology ...\n",
              "101  Id-23851  ...  r dacteur m dical avanc    bas  au royaume uni...\n",
              "102  Id-27123  ...  clinical research associate  madrid   \\ndie ma...\n",
              "103  Id-18850  ...   jocelyn at ck qls is currently recruiting for...\n",
              "104   Id-2936  ...  i am partnered with a fast growing global bout...\n",
              "105  Id-28322  ...  jim gleeson rekrutiert f r einen quality assur...\n",
              "106   Id-8531  ...  job title  senior project manager   \\nlocation...\n",
              "107  Id-13601  ...  quintiles and ims health have come together to...\n",
              "108   Id-3059  ...   after study start and hand over from the dsm ...\n",
              "109   Id-2674  ...  as an integral part of everything we do, our e...\n",
              "110  Id-17765  ...   senior java developer    \\n java engineer    ...\n",
              "111   Id-1003  ...   my client is one of the uk largest contract r...\n",
              "112     Id-68  ...  human factors consultant long term project vau...\n",
              "\n",
              "[13 rows x 5 columns]"
            ]
          },
          "metadata": {
            "tags": []
          },
          "execution_count": 54
        }
      ]
    },
    {
      "cell_type": "code",
      "metadata": {
        "id": "vhKokUNmszdd",
        "colab_type": "code",
        "colab": {}
      },
      "source": [
        "import nltk\n",
        "nltk.download(\"popular\")"
      ],
      "execution_count": 0,
      "outputs": []
    },
    {
      "cell_type": "code",
      "metadata": {
        "id": "8bn94NoOR_Zc",
        "colab_type": "code",
        "colab": {}
      },
      "source": [
        "def initial_clean(text):\n",
        "    \"\"\"\n",
        "    Function to clean text of websites, email addresess and any punctuation\n",
        "    We also lower case the text\n",
        "    \"\"\"\n",
        "    text = re.sub(\"((\\S+)?(http(s)?)(\\S+))|((\\S+)?(www)(\\S+))|((\\S+)?(\\@)(\\S+)?)\", \" \", text)\n",
        "    text = re.sub(\"[^a-zA-Z ]\", \"\", text)\n",
        "    text = text.lower() # lower case the text\n",
        "    text = nltk.word_tokenize(text)\n",
        "    return text\n",
        "\n",
        "stop_words = stopwords.words('english')\n",
        "def remove_stop_words(text):\n",
        "    \"\"\"\n",
        "    Function that removes all stopwords from text\n",
        "    \"\"\"\n",
        "    return [word for word in text if word not in stop_words]\n",
        "\n",
        "stemmer = PorterStemmer()\n",
        "def stem_words(text):\n",
        "    \"\"\"\n",
        "    Function to stem words, so plural and singular are treated the same\n",
        "    \"\"\"\n",
        "    try:\n",
        "        text = [stemmer.stem(word) for word in text]\n",
        "        text = [word for word in text if len(word) > 1] # make sure we have no 1 letter words\n",
        "    except IndexError: # the word \"oed\" broke this, so needed try except\n",
        "        pass\n",
        "    return text\n",
        "\n",
        "def apply_all(text):\n",
        "    \"\"\"\n",
        "    This function applies all the functions above into one\n",
        "    \"\"\"\n",
        "    return stem_words(remove_stop_words(initial_clean(text))) "
      ],
      "execution_count": 0,
      "outputs": []
    },
    {
      "cell_type": "code",
      "metadata": {
        "id": "ef8_x0NeSA_Z",
        "colab_type": "code",
        "colab": {}
      },
      "source": [
        "def standardize_text(df, text_field):\n",
        "    df[text_field] = df[text_field].str.replace(r\"http\\S+\", \"\")\n",
        "    df[text_field] = df[text_field].str.replace(r\"http\", \"\")\n",
        "    df[text_field] = df[text_field].str.replace(r\"@\\S+\", \"\")\n",
        "    df[text_field] = df[text_field].str.replace(r\"[^A-Za-z0-9(),!?@\\'\\`\\\"\\_\\n]\", \" \")\n",
        "    df[text_field] = df[text_field].str.replace(r\"@\", \"at\")\n",
        "    df[text_field] = df[text_field].str.lower()\n",
        "    return df"
      ],
      "execution_count": 0,
      "outputs": []
    },
    {
      "cell_type": "code",
      "metadata": {
        "id": "1pPd6fn3SMpR",
        "colab_type": "code",
        "colab": {}
      },
      "source": [
        "train[\"clean_text\"]=train.job_description\n",
        "train = standardize_text(train, \"clean_text\")"
      ],
      "execution_count": 0,
      "outputs": []
    },
    {
      "cell_type": "code",
      "metadata": {
        "id": "aj6mF4BFMzwM",
        "colab_type": "code",
        "colab": {}
      },
      "source": [
        "X = train[['job_no','job_description','clean_text']]\n",
        "y = train['category']\n"
      ],
      "execution_count": 0,
      "outputs": []
    },
    {
      "cell_type": "code",
      "metadata": {
        "id": "YeNd6cRoSgUs",
        "colab_type": "code",
        "colab": {
          "base_uri": "https://localhost:8080/",
          "height": 204
        },
        "outputId": "eba41cfa-687d-4e57-efa5-b49d80c1c32a"
      },
      "source": [
        "X.head()"
      ],
      "execution_count": 27,
      "outputs": [
        {
          "output_type": "execute_result",
          "data": {
            "text/html": [
              "<div>\n",
              "<style scoped>\n",
              "    .dataframe tbody tr th:only-of-type {\n",
              "        vertical-align: middle;\n",
              "    }\n",
              "\n",
              "    .dataframe tbody tr th {\n",
              "        vertical-align: top;\n",
              "    }\n",
              "\n",
              "    .dataframe thead th {\n",
              "        text-align: right;\n",
              "    }\n",
              "</style>\n",
              "<table border=\"1\" class=\"dataframe\">\n",
              "  <thead>\n",
              "    <tr style=\"text-align: right;\">\n",
              "      <th></th>\n",
              "      <th>job_no</th>\n",
              "      <th>job_description</th>\n",
              "      <th>clean_text</th>\n",
              "    </tr>\n",
              "  </thead>\n",
              "  <tbody>\n",
              "    <tr>\n",
              "      <th>0</th>\n",
              "      <td>Id-12765</td>\n",
              "      <td>Zest Scientific is searching for an accomplis...</td>\n",
              "      <td>zest scientific is searching for an accomplis...</td>\n",
              "    </tr>\n",
              "    <tr>\n",
              "      <th>1</th>\n",
              "      <td>Id-22925</td>\n",
              "      <td>En el mundo de los CRO's típicos, esta compañí...</td>\n",
              "      <td>en el mundo de los cro's t picos, esta compa  ...</td>\n",
              "    </tr>\n",
              "    <tr>\n",
              "      <th>2</th>\n",
              "      <td>Id-1321</td>\n",
              "      <td>Asha Mistry of Umbilical Life is recruiting an...</td>\n",
              "      <td>asha mistry of umbilical life is recruiting an...</td>\n",
              "    </tr>\n",
              "    <tr>\n",
              "      <th>3</th>\n",
              "      <td>Id-9473</td>\n",
              "      <td>Sales Representative - Laser in der Medizinte...</td>\n",
              "      <td>sales representative   laser in der medizinte...</td>\n",
              "    </tr>\n",
              "    <tr>\n",
              "      <th>4</th>\n",
              "      <td>Id-14952</td>\n",
              "      <td>Field Service Engineer - Life Science\\r\\r\\r\\nC...</td>\n",
              "      <td>field service engineer   life science   \\ncamb...</td>\n",
              "    </tr>\n",
              "  </tbody>\n",
              "</table>\n",
              "</div>"
            ],
            "text/plain": [
              "     job_no  ...                                         clean_text\n",
              "0  Id-12765  ...   zest scientific is searching for an accomplis...\n",
              "1  Id-22925  ...  en el mundo de los cro's t picos, esta compa  ...\n",
              "2   Id-1321  ...  asha mistry of umbilical life is recruiting an...\n",
              "3   Id-9473  ...   sales representative   laser in der medizinte...\n",
              "4  Id-14952  ...  field service engineer   life science   \\ncamb...\n",
              "\n",
              "[5 rows x 3 columns]"
            ]
          },
          "metadata": {
            "tags": []
          },
          "execution_count": 27
        }
      ]
    },
    {
      "cell_type": "code",
      "metadata": {
        "id": "oClcfX0kMcxj",
        "colab_type": "code",
        "colab": {}
      },
      "source": [
        "from sklearn.model_selection import train_test_split\n",
        "X_train,X_test,y_train,y_test = train_test_split(train.clean_text, y, test_size=0.3, random_state=42)"
      ],
      "execution_count": 0,
      "outputs": []
    },
    {
      "cell_type": "code",
      "metadata": {
        "id": "CQYRdXu4JOrv",
        "colab_type": "code",
        "colab": {}
      },
      "source": [
        "from sklearn.pipeline import Pipeline\n",
        "# from sklearn.svm import LinearSVC\n",
        "from sklearn.ensemble import RandomForestClassifier\n",
        "# from sklearn.model_selection import cross_val_score\n",
        "# from sklearn.linear_model import LogisticRegression\n"
      ],
      "execution_count": 0,
      "outputs": []
    },
    {
      "cell_type": "code",
      "metadata": {
        "id": "igMWaBtEj3Mm",
        "colab_type": "code",
        "colab": {}
      },
      "source": [
        ""
      ],
      "execution_count": 0,
      "outputs": []
    },
    {
      "cell_type": "code",
      "metadata": {
        "id": "rK_fVnz6uiHh",
        "colab_type": "code",
        "colab": {}
      },
      "source": [
        "# Initialize the TFIDF vectorizer, that uses bigrams (2,2).\n",
        "vectorizer = TfidfVectorizer(ngram_range=(2, 2), min_df=4, use_idf=True, smooth_idf=True)\n",
        "\n"
      ],
      "execution_count": 0,
      "outputs": []
    },
    {
      "cell_type": "code",
      "metadata": {
        "id": "-FakktplL6wl",
        "colab_type": "code",
        "colab": {}
      },
      "source": [
        "text_clf = Pipeline([('tfidf',vectorizer),('clf',RandomForestClassifier())])"
      ],
      "execution_count": 0,
      "outputs": []
    },
    {
      "cell_type": "code",
      "metadata": {
        "id": "CwOsi9k0Ngn-",
        "colab_type": "code",
        "colab": {
          "base_uri": "https://localhost:8080/",
          "height": 479
        },
        "outputId": "b7b2645e-7e75-4bf0-938e-53926282a6f9"
      },
      "source": [
        "text_clf.fit(X_train,y_train)"
      ],
      "execution_count": 32,
      "outputs": [
        {
          "output_type": "stream",
          "text": [
            "/usr/local/lib/python3.6/dist-packages/sklearn/ensemble/forest.py:245: FutureWarning: The default value of n_estimators will change from 10 in version 0.20 to 100 in 0.22.\n",
            "  \"10 in version 0.20 to 100 in 0.22.\", FutureWarning)\n"
          ],
          "name": "stderr"
        },
        {
          "output_type": "execute_result",
          "data": {
            "text/plain": [
              "Pipeline(memory=None,\n",
              "         steps=[('tfidf',\n",
              "                 TfidfVectorizer(analyzer='word', binary=False,\n",
              "                                 decode_error='strict',\n",
              "                                 dtype=<class 'numpy.float64'>,\n",
              "                                 encoding='utf-8', input='content',\n",
              "                                 lowercase=True, max_df=1.0, max_features=None,\n",
              "                                 min_df=4, ngram_range=(2, 2), norm='l2',\n",
              "                                 preprocessor=None, smooth_idf=True,\n",
              "                                 stop_words=None, strip_accents=None,\n",
              "                                 sublinear_tf=False,\n",
              "                                 token_pattern='...\n",
              "                 RandomForestClassifier(bootstrap=True, class_weight=None,\n",
              "                                        criterion='gini', max_depth=None,\n",
              "                                        max_features='auto',\n",
              "                                        max_leaf_nodes=None,\n",
              "                                        min_impurity_decrease=0.0,\n",
              "                                        min_impurity_split=None,\n",
              "                                        min_samples_leaf=1, min_samples_split=2,\n",
              "                                        min_weight_fraction_leaf=0.0,\n",
              "                                        n_estimators=10, n_jobs=None,\n",
              "                                        oob_score=False, random_state=None,\n",
              "                                        verbose=0, warm_start=False))],\n",
              "         verbose=False)"
            ]
          },
          "metadata": {
            "tags": []
          },
          "execution_count": 32
        }
      ]
    },
    {
      "cell_type": "code",
      "metadata": {
        "id": "BLLeOg3KXEWU",
        "colab_type": "code",
        "colab": {}
      },
      "source": [
        "predictions = text_clf.predict(X_test)"
      ],
      "execution_count": 0,
      "outputs": []
    },
    {
      "cell_type": "code",
      "metadata": {
        "id": "UR5V_CcvXmpy",
        "colab_type": "code",
        "colab": {}
      },
      "source": [
        "from sklearn.metrics import confusion_matrix,classification_report,accuracy_score\n"
      ],
      "execution_count": 0,
      "outputs": []
    },
    {
      "cell_type": "code",
      "metadata": {
        "id": "-ChJS4HyX16j",
        "colab_type": "code",
        "colab": {
          "base_uri": "https://localhost:8080/",
          "height": 204
        },
        "outputId": "4b8ccb2d-ad1b-41c6-e049-085f0872d5a3"
      },
      "source": [
        "print(confusion_matrix(y_test,predictions))"
      ],
      "execution_count": 35,
      "outputs": [
        {
          "output_type": "stream",
          "text": [
            "[[ 411   54   97   22   16   24   41    0   25   58  222]\n",
            " [  53  126   22    0    0    0    6    0    1    2   28]\n",
            " [  87   25  248    2    3    8   83    1   54   17  131]\n",
            " [  18    0    1  100    0    2    0    0    0   10   14]\n",
            " [  11    1    7    0  101    0   14    0    1    2   23]\n",
            " [  49    0   14    0    2  186   44    0    0   19   18]\n",
            " [  13    2   67    1    8   30 1201    1    2    0   40]\n",
            " [   0    0    2    0    0    0    0    2    1    0    0]\n",
            " [  15    1   56    0    0    1    2    0  108    3   19]\n",
            " [  66    3   40    8    1   13    6    0    7  134   67]\n",
            " [ 222   23  133    8   16   19   70    0   21   56  306]]\n"
          ],
          "name": "stdout"
        }
      ]
    },
    {
      "cell_type": "code",
      "metadata": {
        "id": "RJgshejuX9ci",
        "colab_type": "code",
        "colab": {
          "base_uri": "https://localhost:8080/",
          "height": 323
        },
        "outputId": "7b769445-a285-430e-cd27-186f1243bad4"
      },
      "source": [
        "print(classification_report(y_test,predictions))"
      ],
      "execution_count": 36,
      "outputs": [
        {
          "output_type": "stream",
          "text": [
            "                                              precision    recall  f1-score   support\n",
            "\n",
            "                           Clinical Research       0.43      0.42      0.43       970\n",
            "              Data Management and Statistics       0.54      0.53      0.53       238\n",
            "                  Manufacturing & Operations       0.36      0.38      0.37       659\n",
            "  Medical Affairs / Pharmaceutical Physician       0.71      0.69      0.70       145\n",
            "   Medical Information and Pharmacovigilance       0.69      0.63      0.66       160\n",
            "                    Pharmaceutical Marketing       0.66      0.56      0.60       332\n",
            "Pharmaceutical, Healthcare and Medical Sales       0.82      0.88      0.85      1365\n",
            "                                    Pharmacy       0.50      0.40      0.44         5\n",
            "                           Quality-assurance       0.49      0.53      0.51       205\n",
            "                          Regulatory Affairs       0.45      0.39      0.41       345\n",
            "                                     Science       0.35      0.35      0.35       874\n",
            "\n",
            "                                    accuracy                           0.55      5298\n",
            "                                   macro avg       0.54      0.52      0.53      5298\n",
            "                                weighted avg       0.55      0.55      0.55      5298\n",
            "\n"
          ],
          "name": "stdout"
        }
      ]
    },
    {
      "cell_type": "code",
      "metadata": {
        "id": "lQ6Wy_-gkf99",
        "colab_type": "code",
        "colab": {}
      },
      "source": [
        ""
      ],
      "execution_count": 0,
      "outputs": []
    },
    {
      "cell_type": "code",
      "metadata": {
        "id": "JMZfivw1vXNX",
        "colab_type": "code",
        "colab": {}
      },
      "source": [
        ""
      ],
      "execution_count": 0,
      "outputs": []
    },
    {
      "cell_type": "code",
      "metadata": {
        "id": "TxD3WV-gvXSA",
        "colab_type": "code",
        "colab": {}
      },
      "source": [
        "from sklearn.naive_bayes import MultinomialNB\n",
        "from sklearn.linear_model import SGDClassifier\n",
        "from sklearn.linear_model import LogisticRegression\n",
        "from sklearn.multiclass import OneVsRestClassifier\n",
        "from sklearn.metrics import hamming_loss"
      ],
      "execution_count": 0,
      "outputs": []
    },
    {
      "cell_type": "code",
      "metadata": {
        "colab_type": "code",
        "id": "c8nC-t6kvXpm",
        "colab": {}
      },
      "source": [
        "text_clf2 = Pipeline([('tfidf',vectorizer),('clf',LogisticRegression())])"
      ],
      "execution_count": 0,
      "outputs": []
    },
    {
      "cell_type": "code",
      "metadata": {
        "colab_type": "code",
        "outputId": "63f8501e-c878-4ba8-87bd-83baabb8f46b",
        "id": "rjfW0ShjvXp3",
        "colab": {
          "base_uri": "https://localhost:8080/",
          "height": 496
        }
      },
      "source": [
        "text_clf2.fit(X_train,y_train)"
      ],
      "execution_count": 39,
      "outputs": [
        {
          "output_type": "stream",
          "text": [
            "/usr/local/lib/python3.6/dist-packages/sklearn/linear_model/logistic.py:432: FutureWarning: Default solver will be changed to 'lbfgs' in 0.22. Specify a solver to silence this warning.\n",
            "  FutureWarning)\n",
            "/usr/local/lib/python3.6/dist-packages/sklearn/linear_model/logistic.py:469: FutureWarning: Default multi_class will be changed to 'auto' in 0.22. Specify the multi_class option to silence this warning.\n",
            "  \"this warning.\", FutureWarning)\n"
          ],
          "name": "stderr"
        },
        {
          "output_type": "execute_result",
          "data": {
            "text/plain": [
              "Pipeline(memory=None,\n",
              "         steps=[('tfidf',\n",
              "                 TfidfVectorizer(analyzer='word', binary=False,\n",
              "                                 decode_error='strict',\n",
              "                                 dtype=<class 'numpy.float64'>,\n",
              "                                 encoding='utf-8', input='content',\n",
              "                                 lowercase=True, max_df=1.0, max_features=None,\n",
              "                                 min_df=4, ngram_range=(2, 2), norm='l2',\n",
              "                                 preprocessor=None, smooth_idf=True,\n",
              "                                 stop_words=None, strip_accents=None,\n",
              "                                 sublinear_tf=False,\n",
              "                                 token_pattern='(?u)\\\\b\\\\w\\\\w+\\\\b',\n",
              "                                 tokenizer=None, use_idf=True,\n",
              "                                 vocabulary=None)),\n",
              "                ('clf',\n",
              "                 LogisticRegression(C=1.0, class_weight=None, dual=False,\n",
              "                                    fit_intercept=True, intercept_scaling=1,\n",
              "                                    l1_ratio=None, max_iter=100,\n",
              "                                    multi_class='warn', n_jobs=None,\n",
              "                                    penalty='l2', random_state=None,\n",
              "                                    solver='warn', tol=0.0001, verbose=0,\n",
              "                                    warm_start=False))],\n",
              "         verbose=False)"
            ]
          },
          "metadata": {
            "tags": []
          },
          "execution_count": 39
        }
      ]
    },
    {
      "cell_type": "code",
      "metadata": {
        "colab_type": "code",
        "id": "AByaXaC2vXqC",
        "colab": {}
      },
      "source": [
        "predictions2 = text_clf2.predict(X_test)"
      ],
      "execution_count": 0,
      "outputs": []
    },
    {
      "cell_type": "code",
      "metadata": {
        "colab_type": "code",
        "outputId": "ccb84d70-ed20-481e-f822-167adcd53132",
        "id": "56_yU7TpvXqL",
        "colab": {
          "base_uri": "https://localhost:8080/",
          "height": 204
        }
      },
      "source": [
        "print(confusion_matrix(y_test,predictions2))"
      ],
      "execution_count": 41,
      "outputs": [
        {
          "output_type": "stream",
          "text": [
            "[[ 481   39   77   19   15   28   62    0   17   52  180]\n",
            " [  73  101   27    0    0    0    2    0    1    0   34]\n",
            " [  96   25  224    0    0    8  127    0   38   15  126]\n",
            " [  23    0    0   89    0    0    1    0    0    9   23]\n",
            " [  13    1    5    0   75    0   28    0    1    6   31]\n",
            " [  38    0    7    0    0  162   85    0    0   26   14]\n",
            " [  20    2   18    1    2   16 1279    0    0    4   23]\n",
            " [   0    0    4    0    0    0    1    0    0    0    0]\n",
            " [  28    2   64    0    0    0    6    0   80    0   25]\n",
            " [ 103    3   43    8    0    9    7    0    8   97   67]\n",
            " [ 268   20  126    5    7   13  105    0   14   35  281]]\n"
          ],
          "name": "stdout"
        }
      ]
    },
    {
      "cell_type": "code",
      "metadata": {
        "colab_type": "code",
        "outputId": "42b3a2c5-2f79-4f6a-c49f-8c6ca728c94f",
        "id": "2H84Pgd0vXqP",
        "colab": {
          "base_uri": "https://localhost:8080/",
          "height": 377
        }
      },
      "source": [
        "print(classification_report(y_test,predictions2))"
      ],
      "execution_count": 42,
      "outputs": [
        {
          "output_type": "stream",
          "text": [
            "                                              precision    recall  f1-score   support\n",
            "\n",
            "                           Clinical Research       0.42      0.50      0.46       970\n",
            "              Data Management and Statistics       0.52      0.42      0.47       238\n",
            "                  Manufacturing & Operations       0.38      0.34      0.36       659\n",
            "  Medical Affairs / Pharmaceutical Physician       0.73      0.61      0.67       145\n",
            "   Medical Information and Pharmacovigilance       0.76      0.47      0.58       160\n",
            "                    Pharmaceutical Marketing       0.69      0.49      0.57       332\n",
            "Pharmaceutical, Healthcare and Medical Sales       0.75      0.94      0.83      1365\n",
            "                                    Pharmacy       0.00      0.00      0.00         5\n",
            "                           Quality-assurance       0.50      0.39      0.44       205\n",
            "                          Regulatory Affairs       0.40      0.28      0.33       345\n",
            "                                     Science       0.35      0.32      0.33       874\n",
            "\n",
            "                                    accuracy                           0.54      5298\n",
            "                                   macro avg       0.50      0.43      0.46      5298\n",
            "                                weighted avg       0.53      0.54      0.53      5298\n",
            "\n"
          ],
          "name": "stdout"
        },
        {
          "output_type": "stream",
          "text": [
            "/usr/local/lib/python3.6/dist-packages/sklearn/metrics/classification.py:1437: UndefinedMetricWarning: Precision and F-score are ill-defined and being set to 0.0 in labels with no predicted samples.\n",
            "  'precision', 'predicted', average, warn_for)\n"
          ],
          "name": "stderr"
        }
      ]
    },
    {
      "cell_type": "code",
      "metadata": {
        "id": "UU1f5HOIvXKR",
        "colab_type": "code",
        "colab": {}
      },
      "source": [
        ""
      ],
      "execution_count": 0,
      "outputs": []
    },
    {
      "cell_type": "code",
      "metadata": {
        "id": "ezvAOkWpwUta",
        "colab_type": "code",
        "colab": {}
      },
      "source": [
        ""
      ],
      "execution_count": 0,
      "outputs": []
    },
    {
      "cell_type": "code",
      "metadata": {
        "id": "ciUvUwemwUyD",
        "colab_type": "code",
        "colab": {}
      },
      "source": [
        ""
      ],
      "execution_count": 0,
      "outputs": []
    },
    {
      "cell_type": "code",
      "metadata": {
        "colab_type": "code",
        "id": "WMkzP_C9wVKL",
        "colab": {}
      },
      "source": [
        "text_clf3 = Pipeline([('tfidf',vectorizer),('clf',SGDClassifier(loss='hinge', penalty='l2', alpha=1e-3, random_state=42, max_iter=6, tol=None))])"
      ],
      "execution_count": 0,
      "outputs": []
    },
    {
      "cell_type": "code",
      "metadata": {
        "colab_type": "code",
        "outputId": "979966e5-2c20-41b2-9540-a95d8cf59f0f",
        "id": "wfUPxlbkwVKT",
        "colab": {
          "base_uri": "https://localhost:8080/",
          "height": 391
        }
      },
      "source": [
        "text_clf3.fit(X_train,y_train)"
      ],
      "execution_count": 44,
      "outputs": [
        {
          "output_type": "execute_result",
          "data": {
            "text/plain": [
              "Pipeline(memory=None,\n",
              "         steps=[('tfidf',\n",
              "                 TfidfVectorizer(analyzer='word', binary=False,\n",
              "                                 decode_error='strict',\n",
              "                                 dtype=<class 'numpy.float64'>,\n",
              "                                 encoding='utf-8', input='content',\n",
              "                                 lowercase=True, max_df=1.0, max_features=None,\n",
              "                                 min_df=4, ngram_range=(2, 2), norm='l2',\n",
              "                                 preprocessor=None, smooth_idf=True,\n",
              "                                 stop_words=None, strip_accents=None,\n",
              "                                 sublinear_tf=False,\n",
              "                                 token_pattern='...\n",
              "                ('clf',\n",
              "                 SGDClassifier(alpha=0.001, average=False, class_weight=None,\n",
              "                               early_stopping=False, epsilon=0.1, eta0=0.0,\n",
              "                               fit_intercept=True, l1_ratio=0.15,\n",
              "                               learning_rate='optimal', loss='hinge',\n",
              "                               max_iter=6, n_iter_no_change=5, n_jobs=None,\n",
              "                               penalty='l2', power_t=0.5, random_state=42,\n",
              "                               shuffle=True, tol=None, validation_fraction=0.1,\n",
              "                               verbose=0, warm_start=False))],\n",
              "         verbose=False)"
            ]
          },
          "metadata": {
            "tags": []
          },
          "execution_count": 44
        }
      ]
    },
    {
      "cell_type": "code",
      "metadata": {
        "colab_type": "code",
        "id": "56ZAN6V7wVKW",
        "colab": {}
      },
      "source": [
        "predictions3 = text_clf3.predict(X_test)"
      ],
      "execution_count": 0,
      "outputs": []
    },
    {
      "cell_type": "code",
      "metadata": {
        "colab_type": "code",
        "outputId": "081c0996-7494-45d3-9f9d-503936948ed0",
        "id": "ZFzMv6btwVKa",
        "colab": {
          "base_uri": "https://localhost:8080/",
          "height": 204
        }
      },
      "source": [
        "print(confusion_matrix(y_test,predictions3))"
      ],
      "execution_count": 46,
      "outputs": [
        {
          "output_type": "stream",
          "text": [
            "[[ 422   60   57   30   23   30   90    0   30   64  164]\n",
            " [  44  142   20    0    0    0    6    0    3    0   23]\n",
            " [  82   25  175    6    3   12  174    0   57   24  101]\n",
            " [   9    0    0  109    4    0    2    0    0    5   16]\n",
            " [   5    1    2    1  105    0   26    0    1    3   16]\n",
            " [  23    1    3    0    2  164  101    0    0   26   12]\n",
            " [  10    3    8    4    6   16 1310    0    0    2    6]\n",
            " [   0    0    0    0    0    0    5    0    0    0    0]\n",
            " [  17    4   48    0    0    0   14    0  110    2   10]\n",
            " [  73    4   41   10    2   10   18    0    9  127   51]\n",
            " [ 223   25  110   14   20   17  158    0   27   52  228]]\n"
          ],
          "name": "stdout"
        }
      ]
    },
    {
      "cell_type": "code",
      "metadata": {
        "colab_type": "code",
        "outputId": "e282f17e-d6f1-4c06-de74-68a845a17676",
        "id": "nHi4zzcfwVKd",
        "colab": {
          "base_uri": "https://localhost:8080/",
          "height": 377
        }
      },
      "source": [
        "print(classification_report(y_test,predictions3))"
      ],
      "execution_count": 47,
      "outputs": [
        {
          "output_type": "stream",
          "text": [
            "                                              precision    recall  f1-score   support\n",
            "\n",
            "                           Clinical Research       0.46      0.44      0.45       970\n",
            "              Data Management and Statistics       0.54      0.60      0.56       238\n",
            "                  Manufacturing & Operations       0.38      0.27      0.31       659\n",
            "  Medical Affairs / Pharmaceutical Physician       0.63      0.75      0.68       145\n",
            "   Medical Information and Pharmacovigilance       0.64      0.66      0.65       160\n",
            "                    Pharmaceutical Marketing       0.66      0.49      0.56       332\n",
            "Pharmaceutical, Healthcare and Medical Sales       0.69      0.96      0.80      1365\n",
            "                                    Pharmacy       0.00      0.00      0.00         5\n",
            "                           Quality-assurance       0.46      0.54      0.50       205\n",
            "                          Regulatory Affairs       0.42      0.37      0.39       345\n",
            "                                     Science       0.36      0.26      0.30       874\n",
            "\n",
            "                                    accuracy                           0.55      5298\n",
            "                                   macro avg       0.48      0.48      0.47      5298\n",
            "                                weighted avg       0.52      0.55      0.52      5298\n",
            "\n"
          ],
          "name": "stdout"
        },
        {
          "output_type": "stream",
          "text": [
            "/usr/local/lib/python3.6/dist-packages/sklearn/metrics/classification.py:1437: UndefinedMetricWarning: Precision and F-score are ill-defined and being set to 0.0 in labels with no predicted samples.\n",
            "  'precision', 'predicted', average, warn_for)\n"
          ],
          "name": "stderr"
        }
      ]
    },
    {
      "cell_type": "code",
      "metadata": {
        "colab_type": "code",
        "id": "HlwRgGzewVKh",
        "colab": {}
      },
      "source": [
        ""
      ],
      "execution_count": 0,
      "outputs": []
    }
  ]
}